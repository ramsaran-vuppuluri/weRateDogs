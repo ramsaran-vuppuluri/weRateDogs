{
 "cells": [
  {
   "cell_type": "markdown",
   "metadata": {},
   "source": [
    "# We Rate Dogs – Analysis Report.\n",
    "\n",
    "## Author: Ram Saran Vuppuluri"
   ]
  },
  {
   "cell_type": "markdown",
   "metadata": {},
   "source": [
    "### Rating frequency\n",
    "Below histogram depicts how many dogs are awarded rating in between 10-14. From the below plot, large of the dogs are awarded rating of 12 and very low number of the dogs are awarded rating 14.  \n",
    "\n",
    "<img src=\"ratingFrq.png\" alt=\" Rating Frequency \" title=\"Rating Frequency\" />\n"
   ]
  },
  {
   "cell_type": "markdown",
   "metadata": {},
   "source": [
    "### Dog type frequency\n",
    "Below histogram depicts how many dogs are classified into one or more of the dog types. From the below plot, most of the dogs are classified as “Pupper followed by “Doggo” and “Puppo”.\n",
    "\n",
    "<img src=\"dogTypeFrq.png\" alt=\" Dog Type Frequency \" title=\"Dog Type Frequency\" />"
   ]
  },
  {
   "cell_type": "markdown",
   "metadata": {},
   "source": [
    "### Relationship between Dog Type and Favorite count\n",
    "Below bar chart depicts how each of the dog types are marked as favorite. Dogs classified as Doggo & Puppo have highest favorite count, followed by Puppo, Doggo & Pupper, Doggo, Doggo & Floofer, Floofer, Pupper.\n",
    "\n",
    "<img src=\"dogTypeFavorite.png\" alt=\" Dog Type vs Favorite count\" title=\"Dog Type vs Favorite count\" />"
   ]
  },
  {
   "cell_type": "markdown",
   "metadata": {},
   "source": [
    "### Relationship between Dog Type and Retweet count\n",
    "Below bar chart depicts how many retweets are made for each of the dog types. Dogs classified as Doggo & Puppo have highest number of retweets, followed by Puppo, Doggo & Pupper, Doggo, Doggo & Floofer, Pupper, Floofer.\n",
    "\n",
    "<img src=\"dogTypeRetweet.png\" alt=\" Dog Type vs Retweet count\" title=\"Dog Type vs Retweet count\" />"
   ]
  },
  {
   "cell_type": "markdown",
   "metadata": {},
   "source": [
    "From the above two plots Dog types which received higher number of retweets generally tend to be marked as favorite. This is in line with the __strong correlation__ we found in the analysis."
   ]
  },
  {
   "cell_type": "markdown",
   "metadata": {},
   "source": [
    "### Relationship between Rating and Favorite count\n",
    "Below bar chart depicts relationship between rating and favorite count. Dogs with highest rating are marked favorite compared to dogs with lower ratings.\n",
    "<img src=\"ratingFavorite.png\" alt=\" Rating vs Favorite Count\" title=\"Rating vs Favorite Count\" />"
   ]
  },
  {
   "cell_type": "markdown",
   "metadata": {},
   "source": [
    "### Relationship between Rating and Retweet count\n",
    "Below bar chart depicts relationship between rating and retweet count. Dogs with highest rating are retweeted more compared to dogs with lower ratings.\n",
    "\n",
    "<img src=\"ratingRetweet.png\" alt=\"Rating vs Retweet Count\" title=\"Rating vs Retweet Count\" />\n"
   ]
  }
 ],
 "metadata": {
  "kernelspec": {
   "display_name": "Python 3",
   "language": "python",
   "name": "python3"
  },
  "language_info": {
   "codemirror_mode": {
    "name": "ipython",
    "version": 3
   },
   "file_extension": ".py",
   "mimetype": "text/x-python",
   "name": "python",
   "nbconvert_exporter": "python",
   "pygments_lexer": "ipython3",
   "version": "3.6.3"
  }
 },
 "nbformat": 4,
 "nbformat_minor": 2
}
