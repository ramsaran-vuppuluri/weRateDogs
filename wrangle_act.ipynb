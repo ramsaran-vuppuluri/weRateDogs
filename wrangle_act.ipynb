{
 "cells": [
  {
   "cell_type": "markdown",
   "metadata": {},
   "source": [
    "# We Rate Dogs\n",
    "\n",
    "## Author: Ram Saran Vuppuluri"
   ]
  },
  {
   "cell_type": "markdown",
   "metadata": {},
   "source": [
    "In this notebook we will analyze tweets in “WeRateDogs” twitter account. At the end of the note we will be able to answer:\n",
    "\n",
    "1. Frequency distribution of dog rattings. \n",
    "2. Frequency distribution of dog breeds.\n",
    "3. Relation between Retweets and Favorites.\n",
    "4. Number of tweets per dog breed.\n",
    "\n",
    "Note: Dog ratting, breed information is extracted by Udacity using tweet text and image information. We will be analyzing only tweets valid as of date. Any tweets that are deleted will not be included in the analysis.\n",
    "\n",
    "Before analyzing any data, we need to perform following 3 steps:\n",
    "1.\tGather data from one or more data sources.\n",
    "2.\tAssess data for any quality or tidiness issues.\n",
    "3.\tClean data of the quality, tidiness issues identified during asses data step.\n"
   ]
  },
  {
   "cell_type": "code",
   "execution_count": 1,
   "metadata": {},
   "outputs": [],
   "source": [
    "import pandas as pd\n",
    "import seaborn as sns\n",
    "import matplotlib.pyplot as plt\n",
    "import requests\n",
    "import tweepy\n",
    "import os\n",
    "import json\n",
    "import time"
   ]
  },
  {
   "cell_type": "markdown",
   "metadata": {},
   "source": [
    "## Gather Data\n",
    "\n",
    "As per the problem statement we need to gather data from three data sources.\n",
    "1.\t__twitter-archive-enhanced.csv__ file provided by Udacity. This file is available for download directly. Once the file is downloaded it will be placed in the current working directory of the notebook.\n",
    "2.\t__image_predictions.tsv__ file provided by Udacity. This file is not directly available for download. Instead we need to utilize Python “requests” package.\n",
    "3.\t__tweet_json.txt__ file. This file is constructed by using tweet_id’s from twitter-archive-enhanced.csv file. We use “tweepy” library as API to retrieve data for each of tweet_id’s.\n",
    "\n",
    "We will load each of these three data sources into Pandas dataframes."
   ]
  },
  {
   "cell_type": "code",
   "execution_count": 2,
   "metadata": {},
   "outputs": [],
   "source": [
    "twitter_arch_df = pd.read_csv('twitter-archive-enhanced.csv');"
   ]
  },
  {
   "cell_type": "markdown",
   "metadata": {},
   "source": [
    "Below step will download __[image_prediction.tsv]( https://d17h27t6h515a5.cloudfront.net/topher/2017/August/599fd2ad_image-predictions/image-predictions.tsv)__ and store as __image_predictions.tsv__ in current working direcoty."
   ]
  },
  {
   "cell_type": "code",
   "execution_count": 3,
   "metadata": {},
   "outputs": [],
   "source": [
    "response = requests.get('https://d17h27t6h515a5.cloudfront.net/topher/2017/August/599fd2ad_image-predictions/image-predictions.tsv')\n",
    "with open('image_predictions.tsv',mode='wb') as file:\n",
    "    file.write(response.content)\n",
    "    \n",
    "imgage_pred_df = pd.read_csv('image_predictions.tsv',sep='\\t');"
   ]
  },
  {
   "cell_type": "markdown",
   "metadata": {},
   "source": [
    "To connect to Twitter via Tweepy API, we need to perform following steps for a new Twitter user:\n",
    "1.\tCreate a regular Twitter account.\n",
    "2.\tOnce the regular Twitter account is created, create a developer account.\n",
    "3.\tCreate an application on Twitter developer dashboard.\n",
    "4.\tNew application will generate:\n",
    "\t* Consumer API key\n",
    "    * Consumer API secret key\n",
    "    * Access token key\n",
    "    * Access token secret key\n",
    "\n",
    "\n",
    "Once app authentication keys are available we can connect to Twitter via Tweepy API.\n"
   ]
  },
  {
   "cell_type": "code",
   "execution_count": 4,
   "metadata": {},
   "outputs": [],
   "source": [
    "CONSUMER_API_KEY = 'XX'\n",
    "CONSUMER_API_SECRET_KEY = 'XX'\n",
    "\n",
    "ACCESS_TOKEN_KEY = 'XX'\n",
    "ACCESS_TOKEN_SECRET_KEY = 'XX'\n",
    "\n",
    "auth = tweepy.OAuthHandler(CONSUMER_API_KEY,CONSUMER_API_SECRET_KEY)\n",
    "auth.set_access_token(ACCESS_TOKEN_KEY,ACCESS_TOKEN_SECRET_KEY)\n",
    "api = tweepy.API(auth,wait_on_rate_limit=True)\n",
    "\n",
    "tweet_file = 'tweet_json.txt'"
   ]
  },
  {
   "cell_type": "markdown",
   "metadata": {},
   "source": [
    "Now that we are connected to Twitter via Tweepy, we can download all the tweets using tweet_id information from __twitter-archive-enhanced.csv__"
   ]
  },
  {
   "cell_type": "code",
   "execution_count": 5,
   "metadata": {},
   "outputs": [
    {
     "data": {
      "text/plain": [
       "\"error_id_list = []\\nwith open('tweet_json.txt', mode='w') as file:\\n    for tweet_id in twitter_arch_df.tweet_id:\\n        start = time.time()\\n        print(tweet_id);\\n        try:\\n            tweet = api.get_status(tweet_id, tweet_mode='extended')\\n            tweet_json_line = json.dumps(tweet._json)\\n            file.write(tweet_json_line + '\\n')\\n            end = time.time()\\n            print(end - start);\\n        except Exception:\\n            error_id_list.append(tweet_id)\""
      ]
     },
     "execution_count": 5,
     "metadata": {},
     "output_type": "execute_result"
    }
   ],
   "source": [
    "'''error_id_list = []\n",
    "with open('tweet_json.txt', mode='w') as file:\n",
    "    for tweet_id in twitter_arch_df.tweet_id:\n",
    "        start = time.time()\n",
    "        print(tweet_id);\n",
    "        try:\n",
    "            tweet = api.get_status(tweet_id, tweet_mode='extended')\n",
    "            tweet_json_line = json.dumps(tweet._json)\n",
    "            file.write(tweet_json_line + '\\n')\n",
    "            end = time.time()\n",
    "            print(end - start);\n",
    "        except Exception:\n",
    "            error_id_list.append(tweet_id)'''"
   ]
  },
  {
   "cell_type": "code",
   "execution_count": 6,
   "metadata": {},
   "outputs": [
    {
     "data": {
      "text/plain": [
       "'len(error_id_list),len(twitter_arch_df.tweet_id),(len(twitter_arch_df.tweet_id)-len(error_id_list))'"
      ]
     },
     "execution_count": 6,
     "metadata": {},
     "output_type": "execute_result"
    }
   ],
   "source": [
    "'''len(error_id_list),len(twitter_arch_df.tweet_id),(len(twitter_arch_df.tweet_id)-len(error_id_list))'''"
   ]
  },
  {
   "cell_type": "code",
   "execution_count": 7,
   "metadata": {},
   "outputs": [],
   "source": [
    "tweet_json_df = pd.read_json('tweet_json.txt',lines=True);"
   ]
  },
  {
   "cell_type": "code",
   "execution_count": 8,
   "metadata": {},
   "outputs": [],
   "source": [
    "tweet_json_df.rename(index=str,columns={'id':'tweet_id'},inplace=True)"
   ]
  },
  {
   "cell_type": "markdown",
   "metadata": {},
   "source": [
    "As we have gathered all three data sources we will consolidated into one. "
   ]
  },
  {
   "cell_type": "code",
   "execution_count": 9,
   "metadata": {},
   "outputs": [],
   "source": [
    "tweet_cons_df = twitter_arch_df.merge(imgage_pred_df,on='tweet_id').merge(tweet_json_df,on='tweet_id')"
   ]
  },
  {
   "cell_type": "code",
   "execution_count": 10,
   "metadata": {},
   "outputs": [
    {
     "data": {
      "text/plain": [
       "(2356, 2075, 1395, 1213)"
      ]
     },
     "execution_count": 10,
     "metadata": {},
     "output_type": "execute_result"
    }
   ],
   "source": [
    "len(twitter_arch_df),len(imgage_pred_df),len(tweet_json_df),len(tweet_cons_df)"
   ]
  },
  {
   "cell_type": "markdown",
   "metadata": {},
   "source": [
    "We will write consolicated dataframe into CSV file to help us out during assessment phase as Pandas Dataframe display will not show complete data in column, we can achive this with tools like Excel."
   ]
  },
  {
   "cell_type": "code",
   "execution_count": 11,
   "metadata": {},
   "outputs": [],
   "source": [
    "tweet_cons_df.to_csv(\"tweet_consolicated.csv\",index=False)"
   ]
  },
  {
   "cell_type": "markdown",
   "metadata": {},
   "source": [
    "## Assess Data\n",
    "\n",
    "Now that we have gathered and loaded data into Pandas dataframes, we will perform visual and programmatic assessment.\n",
    "\n",
    "On visual assessment \n",
    "\n",
    "1. Following columns are loaded as int64 instead of String (object).\n",
    "    * tweet_id\n",
    "    * id_str\n",
    "2. Following columns are loaded as float instead of String (object).    \n",
    "    * in_reply_to_status_id_x\n",
    "    * in_reply_to_user_id_x\n",
    "    * retweeted_status_id\n",
    "    * retweeted_status_user_id\n",
    "    * in_reply_to_status_id_y\n",
    "    * in_reply_to_status_id_str\n",
    "    * in_reply_to_user_id_y\n",
    "    * in_reply_to_user_id_str\n",
    "    * quoted_status_id\n",
    "    * quoted_status_id_str\n",
    "3. There are missing values in following columns:\n",
    "    * in_reply_to_status_id_x\n",
    "    * in_reply_to_user_id_x\n",
    "    * retweeted_status_id\n",
    "    * retweeted_status_user_id\n",
    "    * retweeted_status_timestamp\n",
    "    * expanded_urls\n",
    "    * contributors\n",
    "    * coordinates\n",
    "    * geo\n",
    "    * in_reply_to_screen_name\n",
    "    * in_reply_to_status_id_y\n",
    "    * in_reply_to_status_id_str\n",
    "    * in_reply_to_user_id_y\n",
    "    * in_reply_to_user_id_str\n",
    "    * place\n",
    "    * quoted_status\n",
    "    * quoted_status_id\n",
    "    * quoted_status_id_str\n",
    "    * quoted_status_permalink\n",
    "    * retweeted_status\n",
    "4. Following columns are loaded as String (object) instead of timestamp instance.\n",
    "    * timestamp\n",
    "    * retweeted_status_timestamp\n",
    "5. \"lang\" column is loaded as String (object) instead of catergory.\n",
    "6. \"expanded_urls\" column contains more than 1 URL. (This obeservation is made by examining the values in Excel).\n",
    "7. Following columns are common in between twitter_arch_df and tweet_json_df, we can remove duplicate columns and rename the columns existing columns.\n",
    "    * in_reply_to_status_id\n",
    "    * in_reply_to_user_id\n",
    "    * source"
   ]
  },
  {
   "cell_type": "code",
   "execution_count": 12,
   "metadata": {},
   "outputs": [
    {
     "name": "stdout",
     "output_type": "stream",
     "text": [
      "<class 'pandas.core.frame.DataFrame'>\n",
      "Int64Index: 1213 entries, 0 to 1212\n",
      "Data columns (total 59 columns):\n",
      "tweet_id                         1213 non-null int64\n",
      "in_reply_to_status_id_x          18 non-null float64\n",
      "in_reply_to_user_id_x            18 non-null float64\n",
      "timestamp                        1213 non-null object\n",
      "source_x                         1213 non-null object\n",
      "text                             1213 non-null object\n",
      "retweeted_status_id              27 non-null float64\n",
      "retweeted_status_user_id         27 non-null float64\n",
      "retweeted_status_timestamp       27 non-null object\n",
      "expanded_urls                    1213 non-null object\n",
      "rating_numerator                 1213 non-null int64\n",
      "rating_denominator               1213 non-null int64\n",
      "name                             1213 non-null object\n",
      "doggo                            1213 non-null object\n",
      "floofer                          1213 non-null object\n",
      "pupper                           1213 non-null object\n",
      "puppo                            1213 non-null object\n",
      "jpg_url                          1213 non-null object\n",
      "img_num                          1213 non-null int64\n",
      "p1                               1213 non-null object\n",
      "p1_conf                          1213 non-null float64\n",
      "p1_dog                           1213 non-null bool\n",
      "p2                               1213 non-null object\n",
      "p2_conf                          1213 non-null float64\n",
      "p2_dog                           1213 non-null bool\n",
      "p3                               1213 non-null object\n",
      "p3_conf                          1213 non-null float64\n",
      "p3_dog                           1213 non-null bool\n",
      "contributors                     0 non-null float64\n",
      "coordinates                      0 non-null float64\n",
      "created_at                       1213 non-null datetime64[ns]\n",
      "display_text_range               1213 non-null object\n",
      "entities                         1213 non-null object\n",
      "extended_entities                1213 non-null object\n",
      "favorite_count                   1213 non-null int64\n",
      "favorited                        1213 non-null bool\n",
      "full_text                        1213 non-null object\n",
      "geo                              0 non-null float64\n",
      "id_str                           1213 non-null int64\n",
      "in_reply_to_screen_name          18 non-null object\n",
      "in_reply_to_status_id_y          18 non-null float64\n",
      "in_reply_to_status_id_str        18 non-null float64\n",
      "in_reply_to_user_id_y            18 non-null float64\n",
      "in_reply_to_user_id_str          18 non-null float64\n",
      "is_quote_status                  1213 non-null bool\n",
      "lang                             1213 non-null object\n",
      "place                            0 non-null float64\n",
      "possibly_sensitive               1213 non-null float64\n",
      "possibly_sensitive_appealable    1213 non-null float64\n",
      "quoted_status                    0 non-null object\n",
      "quoted_status_id                 0 non-null float64\n",
      "quoted_status_id_str             0 non-null float64\n",
      "quoted_status_permalink          0 non-null object\n",
      "retweet_count                    1213 non-null int64\n",
      "retweeted                        1213 non-null bool\n",
      "retweeted_status                 27 non-null object\n",
      "source_y                         1213 non-null object\n",
      "truncated                        1213 non-null bool\n",
      "user                             1213 non-null object\n",
      "dtypes: bool(7), datetime64[ns](1), float64(19), int64(7), object(25)\n",
      "memory usage: 510.5+ KB\n"
     ]
    }
   ],
   "source": [
    "tweet_cons_df.info()"
   ]
  },
  {
   "cell_type": "markdown",
   "metadata": {},
   "source": [
    "Pandas Dataframe describe() will provide basic statistical analysis of numerical data in dataframe.\n",
    "\n",
    "On Programmatically assessment \n",
    "1. source_x, source_y has only 3 unique values each. We can ignore this column.\n",
    "2. Dog names identified in p1,p2 and p3 columns contain special characters \"-\",\"_\".\n",
    "3. There is huge variation between 75th percentile of rating_numerator and maximum value.\n",
    "4. rating_denominator contains values other than 10."
   ]
  },
  {
   "cell_type": "code",
   "execution_count": 13,
   "metadata": {},
   "outputs": [
    {
     "data": {
      "text/plain": [
       "array([ '<a href=\"http://twitter.com/download/iphone\" rel=\"nofollow\">Twitter for iPhone</a>',\n",
       "       '<a href=\"http://twitter.com\" rel=\"nofollow\">Twitter Web Client</a>',\n",
       "       '<a href=\"https://about.twitter.com/products/tweetdeck\" rel=\"nofollow\">TweetDeck</a>'], dtype=object)"
      ]
     },
     "execution_count": 13,
     "metadata": {},
     "output_type": "execute_result"
    }
   ],
   "source": [
    "tweet_cons_df.source_x.unique()"
   ]
  },
  {
   "cell_type": "code",
   "execution_count": 14,
   "metadata": {},
   "outputs": [
    {
     "data": {
      "text/plain": [
       "array([ '<a href=\"http://twitter.com/download/iphone\" rel=\"nofollow\">Twitter for iPhone</a>',\n",
       "       '<a href=\"http://twitter.com\" rel=\"nofollow\">Twitter Web Client</a>',\n",
       "       '<a href=\"https://about.twitter.com/products/tweetdeck\" rel=\"nofollow\">TweetDeck</a>'], dtype=object)"
      ]
     },
     "execution_count": 14,
     "metadata": {},
     "output_type": "execute_result"
    }
   ],
   "source": [
    "tweet_cons_df.source_y.unique()"
   ]
  },
  {
   "cell_type": "code",
   "execution_count": 15,
   "metadata": {},
   "outputs": [
    {
     "data": {
      "text/plain": [
       "array(['Chihuahua', 'basset', 'Chesapeake_Bay_retriever', 'Appenzeller',\n",
       "       'Pomeranian', 'Irish_terrier', 'Pembroke', 'Samoyed',\n",
       "       'French_bulldog', 'golden_retriever', 'whippet', 'Siberian_husky',\n",
       "       'Mexican_hairless', 'kuvasz', 'pug', 'Blenheim_spaniel',\n",
       "       'Labrador_retriever', 'malamute', 'Italian_greyhound', 'chow',\n",
       "       'German_shepherd', 'Doberman', 'Eskimo_dog', 'Weimaraner', 'Saluki',\n",
       "       'miniature_pinscher', 'German_short-haired_pointer',\n",
       "       'English_springer', 'vizsla', 'Irish_setter', 'bloodhound',\n",
       "       'Bernese_mountain_dog', 'West_Highland_white_terrier',\n",
       "       'cocker_spaniel', 'flat-coated_retriever', 'Cardigan',\n",
       "       'Newfoundland', 'Shetland_sheepdog', 'komondor', 'kelpie',\n",
       "       'Greater_Swiss_Mountain_dog', 'Border_collie', 'bull_mastiff',\n",
       "       'Staffordshire_bullterrier', 'Lakeland_terrier',\n",
       "       'Australian_terrier', 'Bedlington_terrier', 'Boston_bull',\n",
       "       'Old_English_sheepdog', 'black-and-tan_coonhound', 'Great_Dane',\n",
       "       'Yorkshire_terrier', 'schipperke', 'Airedale', 'giant_schnauzer',\n",
       "       'Dandie_Dinmont', 'Irish_water_spaniel', 'Afghan_hound',\n",
       "       'Brittany_spaniel', 'Leonberg', 'Border_terrier', 'Great_Pyrenees',\n",
       "       'Norwegian_elkhound', 'American_Staffordshire_terrier', 'borzoi',\n",
       "       'Rottweiler', 'Rhodesian_ridgeback', 'boxer', 'Pekinese', 'briard',\n",
       "       'toy_poodle', 'collie', 'English_setter', 'cairn', 'malinois',\n",
       "       'Saint_Bernard', 'Gordon_setter', 'standard_poodle',\n",
       "       'miniature_schnauzer', 'curly-coated_retriever', 'Tibetan_mastiff',\n",
       "       'dalmatian', 'miniature_poodle', 'beagle', 'toy_terrier', 'redbone',\n",
       "       'Walker_hound', 'keeshond', 'Maltese_dog', 'Lhasa',\n",
       "       'soft-coated_wheaten_terrier', 'Norfolk_terrier', 'Shih-Tzu',\n",
       "       'Norwich_terrier', 'papillon', 'basenji', 'groenendael',\n",
       "       'Scottish_deerhound', 'Tibetan_terrier', 'Scotch_terrier',\n",
       "       'Ibizan_hound', 'bluetick', 'EntleBucher', 'Japanese_spaniel',\n",
       "       'Welsh_springer_spaniel', 'standard_schnauzer', 'Brabancon_griffon'], dtype=object)"
      ]
     },
     "execution_count": 15,
     "metadata": {},
     "output_type": "execute_result"
    }
   ],
   "source": [
    "tweet_cons_df[tweet_cons_df.p1_dog == True].p1.unique()"
   ]
  },
  {
   "cell_type": "code",
   "execution_count": 16,
   "metadata": {},
   "outputs": [
    {
     "data": {
      "text/plain": [
       "array(['Pekinese', 'malamute', 'Labrador_retriever', 'English_springer',\n",
       "       'Irish_terrier', 'Border_collie', 'Eskimo_dog', 'Irish_setter',\n",
       "       'Cardigan', 'Pomeranian', 'boxer', 'borzoi', 'Tibetan_mastiff',\n",
       "       'pug', 'redbone', 'Rhodesian_ridgeback', 'toy_terrier',\n",
       "       'Great_Pyrenees', 'Chihuahua', 'Shih-Tzu', 'Siberian_husky',\n",
       "       'American_Staffordshire_terrier', 'Norwich_terrier',\n",
       "       'French_bulldog', 'malinois', 'miniature_pinscher',\n",
       "       'Chesapeake_Bay_retriever', 'Afghan_hound', 'beagle', 'vizsla',\n",
       "       'Boston_bull', 'whippet', 'collie', 'golden_retriever',\n",
       "       'Welsh_springer_spaniel', 'Italian_greyhound', 'Saint_Bernard',\n",
       "       'Pembroke', 'Staffordshire_bullterrier', 'miniature_poodle',\n",
       "       'black-and-tan_coonhound', 'bloodhound', 'Sussex_spaniel',\n",
       "       'flat-coated_retriever', 'briard', 'Appenzeller', 'kuvasz',\n",
       "       'papillon', 'groenendael', 'Airedale', 'toy_poodle',\n",
       "       'Tibetan_terrier', 'Doberman', 'otterhound', 'Brabancon_griffon',\n",
       "       'Bernese_mountain_dog', 'bull_mastiff', 'Maltese_dog', 'kelpie',\n",
       "       'Newfoundland', 'Ibizan_hound', 'Greater_Swiss_Mountain_dog',\n",
       "       'Leonberg', 'chow', 'Samoyed', 'Saluki', 'Blenheim_spaniel',\n",
       "       'cocker_spaniel', 'keeshond', 'Border_terrier',\n",
       "       'soft-coated_wheaten_terrier', 'Norwegian_elkhound',\n",
       "       'German_short-haired_pointer', 'Great_Dane', 'Brittany_spaniel',\n",
       "       'dalmatian', 'Mexican_hairless', 'curly-coated_retriever',\n",
       "       'German_shepherd', 'Norfolk_terrier', 'basenji', 'standard_poodle',\n",
       "       'English_foxhound', 'West_Highland_white_terrier', 'Walker_hound',\n",
       "       'basset', 'bluetick', 'silky_terrier', 'Bedlington_terrier',\n",
       "       'Dandie_Dinmont', 'Lhasa', 'wire-haired_fox_terrier', 'Rottweiler',\n",
       "       'Shetland_sheepdog', 'Scotch_terrier', 'schipperke',\n",
       "       'Old_English_sheepdog', 'Lakeland_terrier', 'Yorkshire_terrier',\n",
       "       'affenpinscher', 'English_setter', 'Irish_wolfhound',\n",
       "       'Australian_terrier', 'Japanese_spaniel', 'miniature_schnauzer',\n",
       "       'Kerry_blue_terrier'], dtype=object)"
      ]
     },
     "execution_count": 16,
     "metadata": {},
     "output_type": "execute_result"
    }
   ],
   "source": [
    "tweet_cons_df[tweet_cons_df.p2_dog == True].p2.unique()"
   ]
  },
  {
   "cell_type": "code",
   "execution_count": 17,
   "metadata": {},
   "outputs": [
    {
     "data": {
      "text/plain": [
       "array(['papillon', 'kelpie', 'German_short-haired_pointer', 'Pembroke',\n",
       "       'Chesapeake_Bay_retriever', 'Chihuahua', 'chow', 'basenji',\n",
       "       'Staffordshire_bullterrier', 'redbone', 'Saluki',\n",
       "       'Labrador_retriever', 'English_setter', 'malamute', 'bull_mastiff',\n",
       "       'Weimaraner', 'beagle', 'Dandie_Dinmont', 'Boston_bull',\n",
       "       'Bernese_mountain_dog', 'kuvasz', 'pug', 'Eskimo_dog',\n",
       "       'Norfolk_terrier', 'Brabancon_griffon', 'Norwegian_elkhound',\n",
       "       'Newfoundland', 'flat-coated_retriever', 'Cardigan',\n",
       "       'cocker_spaniel', 'golden_retriever', 'clumber',\n",
       "       'American_Staffordshire_terrier', 'Ibizan_hound', 'Appenzeller',\n",
       "       'toy_terrier', 'Irish_terrier', 'Tibetan_mastiff',\n",
       "       'Greater_Swiss_Mountain_dog', 'vizsla', 'Great_Pyrenees',\n",
       "       'toy_poodle', 'standard_poodle', 'dalmatian', 'Pomeranian',\n",
       "       'bloodhound', 'EntleBucher', 'Saint_Bernard', 'collie', 'Pekinese',\n",
       "       'curly-coated_retriever', 'keeshond', 'Siberian_husky', 'boxer',\n",
       "       'German_shepherd', 'French_bulldog', 'Bouvier_des_Flandres',\n",
       "       'Lakeland_terrier', 'groenendael', 'Japanese_spaniel', 'bluetick',\n",
       "       'Border_collie', 'Rottweiler', 'English_foxhound', 'Sussex_spaniel',\n",
       "       'Shih-Tzu', 'malinois', 'West_Highland_white_terrier',\n",
       "       'Shetland_sheepdog', 'schipperke', 'Yorkshire_terrier',\n",
       "       'Gordon_setter', 'Italian_greyhound', 'Leonberg',\n",
       "       'soft-coated_wheaten_terrier', 'black-and-tan_coonhound',\n",
       "       'Airedale', 'Irish_setter', 'Norwich_terrier', 'Maltese_dog',\n",
       "       'English_springer', 'miniature_pinscher', 'Samoyed', 'Doberman',\n",
       "       'Tibetan_terrier', 'standard_schnauzer', 'Irish_water_spaniel',\n",
       "       'otterhound', 'Great_Dane', 'miniature_poodle', 'Brittany_spaniel',\n",
       "       'Old_English_sheepdog', 'borzoi', 'giant_schnauzer', 'cairn',\n",
       "       'Welsh_springer_spaniel', 'Irish_wolfhound', 'Lhasa',\n",
       "       'Australian_terrier', 'Mexican_hairless', 'silky_terrier',\n",
       "       'whippet', 'Border_terrier', 'Scottish_deerhound', 'Afghan_hound',\n",
       "       'Rhodesian_ridgeback', 'basset', 'miniature_schnauzer', 'komondor',\n",
       "       'Sealyham_terrier'], dtype=object)"
      ]
     },
     "execution_count": 17,
     "metadata": {},
     "output_type": "execute_result"
    }
   ],
   "source": [
    "tweet_cons_df[tweet_cons_df.p3_dog == True].p3.unique()"
   ]
  },
  {
   "cell_type": "code",
   "execution_count": 18,
   "metadata": {},
   "outputs": [
    {
     "data": {
      "text/html": [
       "<div>\n",
       "<style>\n",
       "    .dataframe thead tr:only-child th {\n",
       "        text-align: right;\n",
       "    }\n",
       "\n",
       "    .dataframe thead th {\n",
       "        text-align: left;\n",
       "    }\n",
       "\n",
       "    .dataframe tbody tr th {\n",
       "        vertical-align: top;\n",
       "    }\n",
       "</style>\n",
       "<table border=\"1\" class=\"dataframe\">\n",
       "  <thead>\n",
       "    <tr style=\"text-align: right;\">\n",
       "      <th></th>\n",
       "      <th>tweet_id</th>\n",
       "      <th>in_reply_to_status_id_x</th>\n",
       "      <th>in_reply_to_user_id_x</th>\n",
       "      <th>retweeted_status_id</th>\n",
       "      <th>retweeted_status_user_id</th>\n",
       "      <th>rating_numerator</th>\n",
       "      <th>rating_denominator</th>\n",
       "      <th>img_num</th>\n",
       "      <th>p1_conf</th>\n",
       "      <th>p2_conf</th>\n",
       "      <th>...</th>\n",
       "      <th>in_reply_to_status_id_y</th>\n",
       "      <th>in_reply_to_status_id_str</th>\n",
       "      <th>in_reply_to_user_id_y</th>\n",
       "      <th>in_reply_to_user_id_str</th>\n",
       "      <th>place</th>\n",
       "      <th>possibly_sensitive</th>\n",
       "      <th>possibly_sensitive_appealable</th>\n",
       "      <th>quoted_status_id</th>\n",
       "      <th>quoted_status_id_str</th>\n",
       "      <th>retweet_count</th>\n",
       "    </tr>\n",
       "  </thead>\n",
       "  <tbody>\n",
       "    <tr>\n",
       "      <th>count</th>\n",
       "      <td>1.213000e+03</td>\n",
       "      <td>1.800000e+01</td>\n",
       "      <td>1.800000e+01</td>\n",
       "      <td>2.700000e+01</td>\n",
       "      <td>2.700000e+01</td>\n",
       "      <td>1213.000000</td>\n",
       "      <td>1213.000000</td>\n",
       "      <td>1213.000000</td>\n",
       "      <td>1213.000000</td>\n",
       "      <td>1213.000000</td>\n",
       "      <td>...</td>\n",
       "      <td>1.800000e+01</td>\n",
       "      <td>1.800000e+01</td>\n",
       "      <td>1.800000e+01</td>\n",
       "      <td>1.800000e+01</td>\n",
       "      <td>0.0</td>\n",
       "      <td>1213.0</td>\n",
       "      <td>1213.0</td>\n",
       "      <td>0.0</td>\n",
       "      <td>0.0</td>\n",
       "      <td>1213.000000</td>\n",
       "    </tr>\n",
       "    <tr>\n",
       "      <th>mean</th>\n",
       "      <td>7.472665e+17</td>\n",
       "      <td>6.966043e+17</td>\n",
       "      <td>4.196984e+09</td>\n",
       "      <td>8.129953e+17</td>\n",
       "      <td>2.916525e+16</td>\n",
       "      <td>11.729596</td>\n",
       "      <td>10.768343</td>\n",
       "      <td>1.225062</td>\n",
       "      <td>0.599390</td>\n",
       "      <td>0.131991</td>\n",
       "      <td>...</td>\n",
       "      <td>6.966043e+17</td>\n",
       "      <td>6.966043e+17</td>\n",
       "      <td>4.196984e+09</td>\n",
       "      <td>4.196984e+09</td>\n",
       "      <td>NaN</td>\n",
       "      <td>0.0</td>\n",
       "      <td>0.0</td>\n",
       "      <td>NaN</td>\n",
       "      <td>NaN</td>\n",
       "      <td>3121.655400</td>\n",
       "    </tr>\n",
       "    <tr>\n",
       "      <th>std</th>\n",
       "      <td>7.404675e+16</td>\n",
       "      <td>4.633543e+16</td>\n",
       "      <td>0.000000e+00</td>\n",
       "      <td>3.795099e+16</td>\n",
       "      <td>1.515471e+17</td>\n",
       "      <td>9.916454</td>\n",
       "      <td>8.471750</td>\n",
       "      <td>0.581308</td>\n",
       "      <td>0.270416</td>\n",
       "      <td>0.098885</td>\n",
       "      <td>...</td>\n",
       "      <td>4.633543e+16</td>\n",
       "      <td>4.633543e+16</td>\n",
       "      <td>0.000000e+00</td>\n",
       "      <td>0.000000e+00</td>\n",
       "      <td>NaN</td>\n",
       "      <td>0.0</td>\n",
       "      <td>0.0</td>\n",
       "      <td>NaN</td>\n",
       "      <td>NaN</td>\n",
       "      <td>4921.190923</td>\n",
       "    </tr>\n",
       "    <tr>\n",
       "      <th>min</th>\n",
       "      <td>6.737115e+17</td>\n",
       "      <td>6.671522e+17</td>\n",
       "      <td>4.196984e+09</td>\n",
       "      <td>7.119983e+17</td>\n",
       "      <td>7.832140e+05</td>\n",
       "      <td>0.000000</td>\n",
       "      <td>10.000000</td>\n",
       "      <td>1.000000</td>\n",
       "      <td>0.059033</td>\n",
       "      <td>0.000046</td>\n",
       "      <td>...</td>\n",
       "      <td>6.671522e+17</td>\n",
       "      <td>6.671522e+17</td>\n",
       "      <td>4.196984e+09</td>\n",
       "      <td>4.196984e+09</td>\n",
       "      <td>NaN</td>\n",
       "      <td>0.0</td>\n",
       "      <td>0.0</td>\n",
       "      <td>NaN</td>\n",
       "      <td>NaN</td>\n",
       "      <td>23.000000</td>\n",
       "    </tr>\n",
       "    <tr>\n",
       "      <th>25%</th>\n",
       "      <td>6.853152e+17</td>\n",
       "      <td>6.747625e+17</td>\n",
       "      <td>4.196984e+09</td>\n",
       "      <td>7.921163e+17</td>\n",
       "      <td>7.044025e+08</td>\n",
       "      <td>10.000000</td>\n",
       "      <td>10.000000</td>\n",
       "      <td>1.000000</td>\n",
       "      <td>0.364729</td>\n",
       "      <td>0.052724</td>\n",
       "      <td>...</td>\n",
       "      <td>6.747625e+17</td>\n",
       "      <td>6.747625e+17</td>\n",
       "      <td>4.196984e+09</td>\n",
       "      <td>4.196984e+09</td>\n",
       "      <td>NaN</td>\n",
       "      <td>0.0</td>\n",
       "      <td>0.0</td>\n",
       "      <td>NaN</td>\n",
       "      <td>NaN</td>\n",
       "      <td>791.000000</td>\n",
       "    </tr>\n",
       "    <tr>\n",
       "      <th>50%</th>\n",
       "      <td>7.095662e+17</td>\n",
       "      <td>6.756022e+17</td>\n",
       "      <td>4.196984e+09</td>\n",
       "      <td>8.190064e+17</td>\n",
       "      <td>4.196984e+09</td>\n",
       "      <td>11.000000</td>\n",
       "      <td>10.000000</td>\n",
       "      <td>1.000000</td>\n",
       "      <td>0.606654</td>\n",
       "      <td>0.117402</td>\n",
       "      <td>...</td>\n",
       "      <td>6.756022e+17</td>\n",
       "      <td>6.756022e+17</td>\n",
       "      <td>4.196984e+09</td>\n",
       "      <td>4.196984e+09</td>\n",
       "      <td>NaN</td>\n",
       "      <td>0.0</td>\n",
       "      <td>0.0</td>\n",
       "      <td>NaN</td>\n",
       "      <td>NaN</td>\n",
       "      <td>1432.000000</td>\n",
       "    </tr>\n",
       "    <tr>\n",
       "      <th>75%</th>\n",
       "      <td>8.268488e+17</td>\n",
       "      <td>7.002919e+17</td>\n",
       "      <td>4.196984e+09</td>\n",
       "      <td>8.358362e+17</td>\n",
       "      <td>4.196984e+09</td>\n",
       "      <td>12.000000</td>\n",
       "      <td>10.000000</td>\n",
       "      <td>1.000000</td>\n",
       "      <td>0.853170</td>\n",
       "      <td>0.190569</td>\n",
       "      <td>...</td>\n",
       "      <td>7.002919e+17</td>\n",
       "      <td>7.002919e+17</td>\n",
       "      <td>4.196984e+09</td>\n",
       "      <td>4.196984e+09</td>\n",
       "      <td>NaN</td>\n",
       "      <td>0.0</td>\n",
       "      <td>0.0</td>\n",
       "      <td>NaN</td>\n",
       "      <td>NaN</td>\n",
       "      <td>3536.000000</td>\n",
       "    </tr>\n",
       "    <tr>\n",
       "      <th>max</th>\n",
       "      <td>8.924206e+17</td>\n",
       "      <td>8.558181e+17</td>\n",
       "      <td>4.196984e+09</td>\n",
       "      <td>8.768508e+17</td>\n",
       "      <td>7.874618e+17</td>\n",
       "      <td>204.000000</td>\n",
       "      <td>170.000000</td>\n",
       "      <td>4.000000</td>\n",
       "      <td>0.999885</td>\n",
       "      <td>0.488014</td>\n",
       "      <td>...</td>\n",
       "      <td>8.558181e+17</td>\n",
       "      <td>8.558181e+17</td>\n",
       "      <td>4.196984e+09</td>\n",
       "      <td>4.196984e+09</td>\n",
       "      <td>NaN</td>\n",
       "      <td>0.0</td>\n",
       "      <td>0.0</td>\n",
       "      <td>NaN</td>\n",
       "      <td>NaN</td>\n",
       "      <td>62665.000000</td>\n",
       "    </tr>\n",
       "  </tbody>\n",
       "</table>\n",
       "<p>8 rows × 26 columns</p>\n",
       "</div>"
      ],
      "text/plain": [
       "           tweet_id  in_reply_to_status_id_x  in_reply_to_user_id_x  \\\n",
       "count  1.213000e+03             1.800000e+01           1.800000e+01   \n",
       "mean   7.472665e+17             6.966043e+17           4.196984e+09   \n",
       "std    7.404675e+16             4.633543e+16           0.000000e+00   \n",
       "min    6.737115e+17             6.671522e+17           4.196984e+09   \n",
       "25%    6.853152e+17             6.747625e+17           4.196984e+09   \n",
       "50%    7.095662e+17             6.756022e+17           4.196984e+09   \n",
       "75%    8.268488e+17             7.002919e+17           4.196984e+09   \n",
       "max    8.924206e+17             8.558181e+17           4.196984e+09   \n",
       "\n",
       "       retweeted_status_id  retweeted_status_user_id  rating_numerator  \\\n",
       "count         2.700000e+01              2.700000e+01       1213.000000   \n",
       "mean          8.129953e+17              2.916525e+16         11.729596   \n",
       "std           3.795099e+16              1.515471e+17          9.916454   \n",
       "min           7.119983e+17              7.832140e+05          0.000000   \n",
       "25%           7.921163e+17              7.044025e+08         10.000000   \n",
       "50%           8.190064e+17              4.196984e+09         11.000000   \n",
       "75%           8.358362e+17              4.196984e+09         12.000000   \n",
       "max           8.768508e+17              7.874618e+17        204.000000   \n",
       "\n",
       "       rating_denominator      img_num      p1_conf      p2_conf  \\\n",
       "count         1213.000000  1213.000000  1213.000000  1213.000000   \n",
       "mean            10.768343     1.225062     0.599390     0.131991   \n",
       "std              8.471750     0.581308     0.270416     0.098885   \n",
       "min             10.000000     1.000000     0.059033     0.000046   \n",
       "25%             10.000000     1.000000     0.364729     0.052724   \n",
       "50%             10.000000     1.000000     0.606654     0.117402   \n",
       "75%             10.000000     1.000000     0.853170     0.190569   \n",
       "max            170.000000     4.000000     0.999885     0.488014   \n",
       "\n",
       "           ...        in_reply_to_status_id_y  in_reply_to_status_id_str  \\\n",
       "count      ...                   1.800000e+01               1.800000e+01   \n",
       "mean       ...                   6.966043e+17               6.966043e+17   \n",
       "std        ...                   4.633543e+16               4.633543e+16   \n",
       "min        ...                   6.671522e+17               6.671522e+17   \n",
       "25%        ...                   6.747625e+17               6.747625e+17   \n",
       "50%        ...                   6.756022e+17               6.756022e+17   \n",
       "75%        ...                   7.002919e+17               7.002919e+17   \n",
       "max        ...                   8.558181e+17               8.558181e+17   \n",
       "\n",
       "       in_reply_to_user_id_y  in_reply_to_user_id_str  place  \\\n",
       "count           1.800000e+01             1.800000e+01    0.0   \n",
       "mean            4.196984e+09             4.196984e+09    NaN   \n",
       "std             0.000000e+00             0.000000e+00    NaN   \n",
       "min             4.196984e+09             4.196984e+09    NaN   \n",
       "25%             4.196984e+09             4.196984e+09    NaN   \n",
       "50%             4.196984e+09             4.196984e+09    NaN   \n",
       "75%             4.196984e+09             4.196984e+09    NaN   \n",
       "max             4.196984e+09             4.196984e+09    NaN   \n",
       "\n",
       "       possibly_sensitive  possibly_sensitive_appealable  quoted_status_id  \\\n",
       "count              1213.0                         1213.0               0.0   \n",
       "mean                  0.0                            0.0               NaN   \n",
       "std                   0.0                            0.0               NaN   \n",
       "min                   0.0                            0.0               NaN   \n",
       "25%                   0.0                            0.0               NaN   \n",
       "50%                   0.0                            0.0               NaN   \n",
       "75%                   0.0                            0.0               NaN   \n",
       "max                   0.0                            0.0               NaN   \n",
       "\n",
       "       quoted_status_id_str  retweet_count  \n",
       "count                   0.0    1213.000000  \n",
       "mean                    NaN    3121.655400  \n",
       "std                     NaN    4921.190923  \n",
       "min                     NaN      23.000000  \n",
       "25%                     NaN     791.000000  \n",
       "50%                     NaN    1432.000000  \n",
       "75%                     NaN    3536.000000  \n",
       "max                     NaN   62665.000000  \n",
       "\n",
       "[8 rows x 26 columns]"
      ]
     },
     "execution_count": 18,
     "metadata": {},
     "output_type": "execute_result"
    }
   ],
   "source": [
    "tweet_cons_df.describe()"
   ]
  },
  {
   "cell_type": "code",
   "execution_count": 19,
   "metadata": {},
   "outputs": [
    {
     "data": {
      "text/plain": [
       "0        1\n",
       "1        1\n",
       "2        3\n",
       "3       11\n",
       "4        7\n",
       "5       17\n",
       "6       14\n",
       "7       22\n",
       "8       39\n",
       "9       91\n",
       "10     230\n",
       "11     229\n",
       "12     290\n",
       "13     212\n",
       "14      32\n",
       "15       1\n",
       "26       1\n",
       "44       1\n",
       "45       1\n",
       "50       1\n",
       "60       1\n",
       "80       1\n",
       "84       1\n",
       "88       1\n",
       "99       1\n",
       "121      1\n",
       "143      1\n",
       "144      1\n",
       "204      1\n",
       "Name: rating_numerator, dtype: int64"
      ]
     },
     "execution_count": 19,
     "metadata": {},
     "output_type": "execute_result"
    }
   ],
   "source": [
    "tweet_cons_df.rating_numerator.value_counts().sort_index()"
   ]
  },
  {
   "cell_type": "code",
   "execution_count": 20,
   "metadata": {},
   "outputs": [
    {
     "data": {
      "text/plain": [
       "10     1198\n",
       "11        2\n",
       "20        1\n",
       "40        1\n",
       "50        3\n",
       "70        1\n",
       "80        2\n",
       "90        1\n",
       "110       1\n",
       "120       1\n",
       "130       1\n",
       "170       1\n",
       "Name: rating_denominator, dtype: int64"
      ]
     },
     "execution_count": 20,
     "metadata": {},
     "output_type": "execute_result"
    }
   ],
   "source": [
    "tweet_cons_df.rating_denominator.value_counts().sort_index()"
   ]
  },
  {
   "cell_type": "markdown",
   "metadata": {},
   "source": [
    "From above visual and programmatic analysis, we find quality and tidiness issues:\n",
    "\n",
    "#### Quality issues:\n",
    "\n",
    "1. Following columns are loaded as int64 instead of String (object).\n",
    "    * tweet_id\n",
    "    * id_str\n",
    "2. Following columns are loaded as float instead of String (object), we can remove these columns as they are not utilized in analysis.    \n",
    "    * in_reply_to_status_id_x\n",
    "    * in_reply_to_user_id_x\n",
    "    * retweeted_status_id\n",
    "    * retweeted_status_user_id\n",
    "    * in_reply_to_status_id_y\n",
    "    * in_reply_to_status_id_str\n",
    "    * in_reply_to_user_id_y\n",
    "    * in_reply_to_user_id_str\n",
    "    * quoted_status_id\n",
    "    * quoted_status_id_str\n",
    "3. There are missing values in following columns, we can remove these columns as they are not utilized in analysis.\n",
    "    * retweeted_status_timestamp\n",
    "    * expanded_urls\n",
    "    * contributors\n",
    "    * coordinates\n",
    "    * geo\n",
    "    * in_reply_to_screen_name\n",
    "    * place\n",
    "    * quoted_status\n",
    "    * quoted_status_permalink\n",
    "    * retweeted_status\n",
    "4. Following columns are loaded as String (object) instead of datetime64 instance.\n",
    "    * timestamp\n",
    "5. \"lang\" column is loaded as String (object) instead of catergory.\n",
    "6. \"expanded_urls\" column contains more than 1 URL. (This obeservation is made by examining the values in Excel). We can remove this column as it is not utilized in analysis.\n",
    "7. rating_numerator should be in range 10 to 14, but there are values out of range. We can remove out of range values.\n",
    "8. rating_denominator should be 10, there are values not equal to 10. We can remove non 10 values.\n",
    "\n",
    "#### Tidiness issues:\n",
    "\n",
    "1. Following columns are common in between twitter_arch_df and tweet_json_df, we can remove duplicate columns and rename the columns existing columns.\n",
    "    * in_reply_to_status_id\n",
    "    * in_reply_to_user_id\n",
    "    * source\n",
    "2. Following columns are not needed for analysis.\n",
    "    * timestamp\n",
    "    * source_x\n",
    "    * text\n",
    "    * name                           \n",
    "    * jpg_url\n",
    "    * img_num\n",
    "    * created_at\n",
    "    * display_text_range\n",
    "    * entities\n",
    "    * extended_entities                   \n",
    "    * favorited\n",
    "    * full_text\n",
    "    * id_str\n",
    "    * is_quote_status\n",
    "    * lang\n",
    "    * possibly_sensitive\n",
    "    * possibly_sensitive_appealable    \n",
    "    * retweeted\n",
    "    * source_y\n",
    "    * truncated\n",
    "    * user\n",
    "3. Not all records identified in image-prediction file not always dogs. We can remove non dog records.\n",
    "4. Image prediction data has 3 possible predictions for each of the tweets along with whether the prediction has classified as dog or not and confidence of the predictions. We will \n",
    "    1. use only predictions that are of dogs.\n",
    "    2. select maximum prediction value.\n",
    "    3. use the dog breed from maximum prediction value.\n",
    "5. Dog breeds contain special characters \"-\",\"_\". We will replace the special characters with \" \".\n"
   ]
  },
  {
   "cell_type": "markdown",
   "metadata": {},
   "source": [
    "## Clean Data"
   ]
  },
  {
   "cell_type": "code",
   "execution_count": 21,
   "metadata": {},
   "outputs": [],
   "source": [
    "tweet_cons_clean_df = tweet_cons_df.copy()"
   ]
  },
  {
   "cell_type": "markdown",
   "metadata": {},
   "source": [
    "### Quality changes\n",
    "\n",
    "1. Following columns are loaded as int64 instead of String (object).\n",
    "    * tweet_id\n",
    "    * id_str\n",
    "    \n",
    "#### Code"
   ]
  },
  {
   "cell_type": "code",
   "execution_count": 22,
   "metadata": {},
   "outputs": [
    {
     "data": {
      "text/plain": [
       "(dtype('int64'), dtype('int64'))"
      ]
     },
     "execution_count": 22,
     "metadata": {},
     "output_type": "execute_result"
    }
   ],
   "source": [
    "tweet_cons_clean_df.tweet_id.dtype, tweet_cons_clean_df.id_str.dtype"
   ]
  },
  {
   "cell_type": "code",
   "execution_count": 23,
   "metadata": {},
   "outputs": [
    {
     "name": "stdout",
     "output_type": "stream",
     "text": [
      "<class 'pandas.core.frame.DataFrame'>\n",
      "Int64Index: 1213 entries, 0 to 1212\n",
      "Data columns (total 2 columns):\n",
      "tweet_id    1213 non-null int64\n",
      "id_str      1213 non-null int64\n",
      "dtypes: int64(2)\n",
      "memory usage: 28.4 KB\n"
     ]
    }
   ],
   "source": [
    "tweet_cons_clean_df[['tweet_id','id_str']].info()"
   ]
  },
  {
   "cell_type": "code",
   "execution_count": 24,
   "metadata": {},
   "outputs": [],
   "source": [
    "tweet_cons_clean_df.tweet_id = tweet_cons_clean_df.tweet_id.astype(str)\n",
    "tweet_cons_clean_df.id_str = tweet_cons_clean_df.id_str.astype(str)"
   ]
  },
  {
   "cell_type": "markdown",
   "metadata": {},
   "source": [
    "#### Test"
   ]
  },
  {
   "cell_type": "code",
   "execution_count": 25,
   "metadata": {},
   "outputs": [
    {
     "data": {
      "text/plain": [
       "(dtype('O'), dtype('O'))"
      ]
     },
     "execution_count": 25,
     "metadata": {},
     "output_type": "execute_result"
    }
   ],
   "source": [
    "tweet_cons_clean_df.tweet_id.dtype, tweet_cons_clean_df.id_str.dtype"
   ]
  },
  {
   "cell_type": "code",
   "execution_count": 26,
   "metadata": {},
   "outputs": [
    {
     "name": "stdout",
     "output_type": "stream",
     "text": [
      "<class 'pandas.core.frame.DataFrame'>\n",
      "Int64Index: 1213 entries, 0 to 1212\n",
      "Data columns (total 2 columns):\n",
      "tweet_id    1213 non-null object\n",
      "id_str      1213 non-null object\n",
      "dtypes: object(2)\n",
      "memory usage: 28.4+ KB\n"
     ]
    }
   ],
   "source": [
    "tweet_cons_clean_df[['tweet_id','id_str']].info()"
   ]
  },
  {
   "cell_type": "markdown",
   "metadata": {},
   "source": [
    "2. Following columns are loaded as float instead of String (object), we can remove these columns as they are not utilized in analysis.    \n",
    "    * in_reply_to_status_id_x\n",
    "    * in_reply_to_user_id_x\n",
    "    * retweeted_status_id\n",
    "    * retweeted_status_user_id\n",
    "    * in_reply_to_status_id_y\n",
    "    * in_reply_to_status_id_str\n",
    "    * in_reply_to_user_id_y\n",
    "    * in_reply_to_user_id_str\n",
    "    * quoted_status_id\n",
    "    * quoted_status_id_str\n",
    "    \n",
    "#### Code"
   ]
  },
  {
   "cell_type": "code",
   "execution_count": 27,
   "metadata": {
    "scrolled": true
   },
   "outputs": [
    {
     "name": "stdout",
     "output_type": "stream",
     "text": [
      "<class 'pandas.core.frame.DataFrame'>\n",
      "Int64Index: 1213 entries, 0 to 1212\n",
      "Data columns (total 10 columns):\n",
      "in_reply_to_status_id_x      18 non-null float64\n",
      "in_reply_to_user_id_x        18 non-null float64\n",
      "retweeted_status_id          27 non-null float64\n",
      "retweeted_status_user_id     27 non-null float64\n",
      "in_reply_to_status_id_y      18 non-null float64\n",
      "in_reply_to_status_id_str    18 non-null float64\n",
      "in_reply_to_user_id_y        18 non-null float64\n",
      "in_reply_to_user_id_str      18 non-null float64\n",
      "quoted_status_id             0 non-null float64\n",
      "quoted_status_id_str         0 non-null float64\n",
      "dtypes: float64(10)\n",
      "memory usage: 104.2 KB\n"
     ]
    }
   ],
   "source": [
    "tweet_cons_clean_df[['in_reply_to_status_id_x','in_reply_to_user_id_x','retweeted_status_id','retweeted_status_user_id','in_reply_to_status_id_y','in_reply_to_status_id_str','in_reply_to_user_id_y','in_reply_to_user_id_str','quoted_status_id','quoted_status_id_str'\n",
    "]].info()"
   ]
  },
  {
   "cell_type": "code",
   "execution_count": 28,
   "metadata": {},
   "outputs": [],
   "source": [
    "tweet_cons_clean_df.drop(['in_reply_to_status_id_x','in_reply_to_user_id_x','retweeted_status_id','retweeted_status_user_id','in_reply_to_status_id_y','in_reply_to_status_id_str','in_reply_to_user_id_y','in_reply_to_user_id_str','quoted_status_id','quoted_status_id_str'\n",
    "],axis=1,inplace = True)"
   ]
  },
  {
   "cell_type": "markdown",
   "metadata": {},
   "source": [
    "#### Test"
   ]
  },
  {
   "cell_type": "code",
   "execution_count": 29,
   "metadata": {},
   "outputs": [
    {
     "name": "stdout",
     "output_type": "stream",
     "text": [
      "<class 'pandas.core.frame.DataFrame'>\n",
      "Int64Index: 1213 entries, 0 to 1212\n",
      "Data columns (total 49 columns):\n",
      "tweet_id                         1213 non-null object\n",
      "timestamp                        1213 non-null object\n",
      "source_x                         1213 non-null object\n",
      "text                             1213 non-null object\n",
      "retweeted_status_timestamp       27 non-null object\n",
      "expanded_urls                    1213 non-null object\n",
      "rating_numerator                 1213 non-null int64\n",
      "rating_denominator               1213 non-null int64\n",
      "name                             1213 non-null object\n",
      "doggo                            1213 non-null object\n",
      "floofer                          1213 non-null object\n",
      "pupper                           1213 non-null object\n",
      "puppo                            1213 non-null object\n",
      "jpg_url                          1213 non-null object\n",
      "img_num                          1213 non-null int64\n",
      "p1                               1213 non-null object\n",
      "p1_conf                          1213 non-null float64\n",
      "p1_dog                           1213 non-null bool\n",
      "p2                               1213 non-null object\n",
      "p2_conf                          1213 non-null float64\n",
      "p2_dog                           1213 non-null bool\n",
      "p3                               1213 non-null object\n",
      "p3_conf                          1213 non-null float64\n",
      "p3_dog                           1213 non-null bool\n",
      "contributors                     0 non-null float64\n",
      "coordinates                      0 non-null float64\n",
      "created_at                       1213 non-null datetime64[ns]\n",
      "display_text_range               1213 non-null object\n",
      "entities                         1213 non-null object\n",
      "extended_entities                1213 non-null object\n",
      "favorite_count                   1213 non-null int64\n",
      "favorited                        1213 non-null bool\n",
      "full_text                        1213 non-null object\n",
      "geo                              0 non-null float64\n",
      "id_str                           1213 non-null object\n",
      "in_reply_to_screen_name          18 non-null object\n",
      "is_quote_status                  1213 non-null bool\n",
      "lang                             1213 non-null object\n",
      "place                            0 non-null float64\n",
      "possibly_sensitive               1213 non-null float64\n",
      "possibly_sensitive_appealable    1213 non-null float64\n",
      "quoted_status                    0 non-null object\n",
      "quoted_status_permalink          0 non-null object\n",
      "retweet_count                    1213 non-null int64\n",
      "retweeted                        1213 non-null bool\n",
      "retweeted_status                 27 non-null object\n",
      "source_y                         1213 non-null object\n",
      "truncated                        1213 non-null bool\n",
      "user                             1213 non-null object\n",
      "dtypes: bool(7), datetime64[ns](1), float64(9), int64(5), object(27)\n",
      "memory usage: 415.8+ KB\n"
     ]
    }
   ],
   "source": [
    "tweet_cons_clean_df.info()"
   ]
  },
  {
   "cell_type": "markdown",
   "metadata": {},
   "source": [
    "3. There are missing values in following columns, we can remove these columns as they are not utilized in analysis.\n",
    "    * in_reply_to_status_id_x\n",
    "    * in_reply_to_user_id_x\n",
    "    * retweeted_status_id\n",
    "    * retweeted_status_user_id\n",
    "    * retweeted_status_timestamp\n",
    "    * expanded_urls\n",
    "    * contributors\n",
    "    * coordinates\n",
    "    * geo\n",
    "    * in_reply_to_screen_name\n",
    "    * in_reply_to_status_id_y\n",
    "    * in_reply_to_status_id_str\n",
    "    * in_reply_to_user_id_y\n",
    "    * in_reply_to_user_id_str\n",
    "    * place\n",
    "    * quoted_status\n",
    "    * quoted_status_id\n",
    "    * quoted_status_id_str\n",
    "    * quoted_status_permalink\n",
    "    * retweeted_status\n",
    "    \n",
    "#### Code"
   ]
  },
  {
   "cell_type": "code",
   "execution_count": 30,
   "metadata": {},
   "outputs": [],
   "source": [
    "tweet_cons_clean_df.drop(['retweeted_status_timestamp','expanded_urls','contributors','coordinates','geo','in_reply_to_screen_name','place','quoted_status','quoted_status_permalink','retweeted_status'\n",
    "],axis=1,inplace = True)"
   ]
  },
  {
   "cell_type": "markdown",
   "metadata": {},
   "source": [
    "#### Test"
   ]
  },
  {
   "cell_type": "code",
   "execution_count": 31,
   "metadata": {},
   "outputs": [
    {
     "name": "stdout",
     "output_type": "stream",
     "text": [
      "<class 'pandas.core.frame.DataFrame'>\n",
      "Int64Index: 1213 entries, 0 to 1212\n",
      "Data columns (total 39 columns):\n",
      "tweet_id                         1213 non-null object\n",
      "timestamp                        1213 non-null object\n",
      "source_x                         1213 non-null object\n",
      "text                             1213 non-null object\n",
      "rating_numerator                 1213 non-null int64\n",
      "rating_denominator               1213 non-null int64\n",
      "name                             1213 non-null object\n",
      "doggo                            1213 non-null object\n",
      "floofer                          1213 non-null object\n",
      "pupper                           1213 non-null object\n",
      "puppo                            1213 non-null object\n",
      "jpg_url                          1213 non-null object\n",
      "img_num                          1213 non-null int64\n",
      "p1                               1213 non-null object\n",
      "p1_conf                          1213 non-null float64\n",
      "p1_dog                           1213 non-null bool\n",
      "p2                               1213 non-null object\n",
      "p2_conf                          1213 non-null float64\n",
      "p2_dog                           1213 non-null bool\n",
      "p3                               1213 non-null object\n",
      "p3_conf                          1213 non-null float64\n",
      "p3_dog                           1213 non-null bool\n",
      "created_at                       1213 non-null datetime64[ns]\n",
      "display_text_range               1213 non-null object\n",
      "entities                         1213 non-null object\n",
      "extended_entities                1213 non-null object\n",
      "favorite_count                   1213 non-null int64\n",
      "favorited                        1213 non-null bool\n",
      "full_text                        1213 non-null object\n",
      "id_str                           1213 non-null object\n",
      "is_quote_status                  1213 non-null bool\n",
      "lang                             1213 non-null object\n",
      "possibly_sensitive               1213 non-null float64\n",
      "possibly_sensitive_appealable    1213 non-null float64\n",
      "retweet_count                    1213 non-null int64\n",
      "retweeted                        1213 non-null bool\n",
      "source_y                         1213 non-null object\n",
      "truncated                        1213 non-null bool\n",
      "user                             1213 non-null object\n",
      "dtypes: bool(7), datetime64[ns](1), float64(5), int64(5), object(21)\n",
      "memory usage: 321.0+ KB\n"
     ]
    }
   ],
   "source": [
    "tweet_cons_clean_df.info()"
   ]
  },
  {
   "cell_type": "markdown",
   "metadata": {},
   "source": [
    "4. Following columns are loaded as String (object) instead of datetime64 instance.\n",
    "    * timestamp\n",
    "    \n",
    "#### Code"
   ]
  },
  {
   "cell_type": "code",
   "execution_count": 32,
   "metadata": {},
   "outputs": [],
   "source": [
    "tweet_cons_clean_df['timestamp'] = pd.to_datetime(tweet_cons_clean_df['timestamp'])"
   ]
  },
  {
   "cell_type": "markdown",
   "metadata": {},
   "source": [
    "#### Test"
   ]
  },
  {
   "cell_type": "code",
   "execution_count": 33,
   "metadata": {},
   "outputs": [
    {
     "name": "stdout",
     "output_type": "stream",
     "text": [
      "<class 'pandas.core.frame.DataFrame'>\n",
      "Int64Index: 1213 entries, 0 to 1212\n",
      "Data columns (total 39 columns):\n",
      "tweet_id                         1213 non-null object\n",
      "timestamp                        1213 non-null datetime64[ns]\n",
      "source_x                         1213 non-null object\n",
      "text                             1213 non-null object\n",
      "rating_numerator                 1213 non-null int64\n",
      "rating_denominator               1213 non-null int64\n",
      "name                             1213 non-null object\n",
      "doggo                            1213 non-null object\n",
      "floofer                          1213 non-null object\n",
      "pupper                           1213 non-null object\n",
      "puppo                            1213 non-null object\n",
      "jpg_url                          1213 non-null object\n",
      "img_num                          1213 non-null int64\n",
      "p1                               1213 non-null object\n",
      "p1_conf                          1213 non-null float64\n",
      "p1_dog                           1213 non-null bool\n",
      "p2                               1213 non-null object\n",
      "p2_conf                          1213 non-null float64\n",
      "p2_dog                           1213 non-null bool\n",
      "p3                               1213 non-null object\n",
      "p3_conf                          1213 non-null float64\n",
      "p3_dog                           1213 non-null bool\n",
      "created_at                       1213 non-null datetime64[ns]\n",
      "display_text_range               1213 non-null object\n",
      "entities                         1213 non-null object\n",
      "extended_entities                1213 non-null object\n",
      "favorite_count                   1213 non-null int64\n",
      "favorited                        1213 non-null bool\n",
      "full_text                        1213 non-null object\n",
      "id_str                           1213 non-null object\n",
      "is_quote_status                  1213 non-null bool\n",
      "lang                             1213 non-null object\n",
      "possibly_sensitive               1213 non-null float64\n",
      "possibly_sensitive_appealable    1213 non-null float64\n",
      "retweet_count                    1213 non-null int64\n",
      "retweeted                        1213 non-null bool\n",
      "source_y                         1213 non-null object\n",
      "truncated                        1213 non-null bool\n",
      "user                             1213 non-null object\n",
      "dtypes: bool(7), datetime64[ns](2), float64(5), int64(5), object(20)\n",
      "memory usage: 321.0+ KB\n"
     ]
    }
   ],
   "source": [
    "tweet_cons_clean_df.info()"
   ]
  },
  {
   "cell_type": "markdown",
   "metadata": {},
   "source": [
    "5. \"lang\" column is loaded as String (object) instead of catergory.\n",
    "\n",
    "#### Code"
   ]
  },
  {
   "cell_type": "code",
   "execution_count": 34,
   "metadata": {},
   "outputs": [],
   "source": [
    "tweet_cons_clean_df.lang = tweet_cons_clean_df.lang.astype(dtype=\"category\")"
   ]
  },
  {
   "cell_type": "markdown",
   "metadata": {},
   "source": [
    "#### Test"
   ]
  },
  {
   "cell_type": "code",
   "execution_count": 35,
   "metadata": {},
   "outputs": [
    {
     "name": "stdout",
     "output_type": "stream",
     "text": [
      "<class 'pandas.core.frame.DataFrame'>\n",
      "Int64Index: 1213 entries, 0 to 1212\n",
      "Data columns (total 39 columns):\n",
      "tweet_id                         1213 non-null object\n",
      "timestamp                        1213 non-null datetime64[ns]\n",
      "source_x                         1213 non-null object\n",
      "text                             1213 non-null object\n",
      "rating_numerator                 1213 non-null int64\n",
      "rating_denominator               1213 non-null int64\n",
      "name                             1213 non-null object\n",
      "doggo                            1213 non-null object\n",
      "floofer                          1213 non-null object\n",
      "pupper                           1213 non-null object\n",
      "puppo                            1213 non-null object\n",
      "jpg_url                          1213 non-null object\n",
      "img_num                          1213 non-null int64\n",
      "p1                               1213 non-null object\n",
      "p1_conf                          1213 non-null float64\n",
      "p1_dog                           1213 non-null bool\n",
      "p2                               1213 non-null object\n",
      "p2_conf                          1213 non-null float64\n",
      "p2_dog                           1213 non-null bool\n",
      "p3                               1213 non-null object\n",
      "p3_conf                          1213 non-null float64\n",
      "p3_dog                           1213 non-null bool\n",
      "created_at                       1213 non-null datetime64[ns]\n",
      "display_text_range               1213 non-null object\n",
      "entities                         1213 non-null object\n",
      "extended_entities                1213 non-null object\n",
      "favorite_count                   1213 non-null int64\n",
      "favorited                        1213 non-null bool\n",
      "full_text                        1213 non-null object\n",
      "id_str                           1213 non-null object\n",
      "is_quote_status                  1213 non-null bool\n",
      "lang                             1213 non-null category\n",
      "possibly_sensitive               1213 non-null float64\n",
      "possibly_sensitive_appealable    1213 non-null float64\n",
      "retweet_count                    1213 non-null int64\n",
      "retweeted                        1213 non-null bool\n",
      "source_y                         1213 non-null object\n",
      "truncated                        1213 non-null bool\n",
      "user                             1213 non-null object\n",
      "dtypes: bool(7), category(1), datetime64[ns](2), float64(5), int64(5), object(19)\n",
      "memory usage: 312.8+ KB\n"
     ]
    }
   ],
   "source": [
    "tweet_cons_clean_df.info()"
   ]
  },
  {
   "cell_type": "markdown",
   "metadata": {},
   "source": [
    "6. \"expanded_urls\" column contains more than 1 URL. (This obeservation is made by examining the values in Excel). We can remove this column as it is not utilized in analysis. Perfromed as part of 3."
   ]
  },
  {
   "cell_type": "markdown",
   "metadata": {},
   "source": [
    "7. rating_numerator should be in range 10 to 14, but there are values out of range. We can remove out of range values.\n",
    "\n",
    "#### Code"
   ]
  },
  {
   "cell_type": "code",
   "execution_count": 36,
   "metadata": {},
   "outputs": [],
   "source": [
    "tweet_cons_clean_df = tweet_cons_clean_df[(tweet_cons_clean_df.rating_numerator >= 10) & (tweet_cons_clean_df.rating_numerator <=14)]"
   ]
  },
  {
   "cell_type": "markdown",
   "metadata": {},
   "source": [
    "#### Test\n",
    "\n",
    "Below code snippet will yield 0 as we removed any of the records with rating_numerator < 10 or rating_numerator > 14"
   ]
  },
  {
   "cell_type": "code",
   "execution_count": 37,
   "metadata": {},
   "outputs": [
    {
     "data": {
      "text/plain": [
       "0"
      ]
     },
     "execution_count": 37,
     "metadata": {},
     "output_type": "execute_result"
    }
   ],
   "source": [
    "len(tweet_cons_clean_df[(tweet_cons_clean_df.rating_numerator < 10) | (tweet_cons_clean_df.rating_numerator > 14)])"
   ]
  },
  {
   "cell_type": "markdown",
   "metadata": {},
   "source": [
    "8. rating_denominator should be 10, there are values not equal to 10. We can remove non 10 values.\n",
    "\n",
    "#### Code"
   ]
  },
  {
   "cell_type": "code",
   "execution_count": 38,
   "metadata": {},
   "outputs": [],
   "source": [
    "tweet_cons_clean_df = tweet_cons_clean_df[tweet_cons_clean_df.rating_denominator == 10]"
   ]
  },
  {
   "cell_type": "markdown",
   "metadata": {},
   "source": [
    "#### Test\n",
    "\n",
    "Below code snippet will yield 0 as we removed any of the records with rating_denominator != 10."
   ]
  },
  {
   "cell_type": "code",
   "execution_count": 39,
   "metadata": {},
   "outputs": [
    {
     "data": {
      "text/plain": [
       "0"
      ]
     },
     "execution_count": 39,
     "metadata": {},
     "output_type": "execute_result"
    }
   ],
   "source": [
    "len(tweet_cons_clean_df[tweet_cons_clean_df.rating_denominator != 10])"
   ]
  },
  {
   "cell_type": "markdown",
   "metadata": {},
   "source": [
    "### Tidiness issues:\n",
    "\n",
    "1. Following columns are common in between twitter_arch_df and tweet_json_df, we can remove duplicate columns and rename the columns existing columns.\n",
    "    * in_reply_to_status_id\n",
    "    * in_reply_to_user_id\n",
    "    * source\n",
    "\n",
    "#### Code"
   ]
  },
  {
   "cell_type": "code",
   "execution_count": 40,
   "metadata": {},
   "outputs": [],
   "source": [
    "tweet_cons_clean_df.drop(['source_x','source_y'],axis=1,inplace=True)"
   ]
  },
  {
   "cell_type": "markdown",
   "metadata": {},
   "source": [
    "#### Test"
   ]
  },
  {
   "cell_type": "code",
   "execution_count": 41,
   "metadata": {},
   "outputs": [
    {
     "name": "stdout",
     "output_type": "stream",
     "text": [
      "<class 'pandas.core.frame.DataFrame'>\n",
      "Int64Index: 993 entries, 0 to 1212\n",
      "Data columns (total 37 columns):\n",
      "tweet_id                         993 non-null object\n",
      "timestamp                        993 non-null datetime64[ns]\n",
      "text                             993 non-null object\n",
      "rating_numerator                 993 non-null int64\n",
      "rating_denominator               993 non-null int64\n",
      "name                             993 non-null object\n",
      "doggo                            993 non-null object\n",
      "floofer                          993 non-null object\n",
      "pupper                           993 non-null object\n",
      "puppo                            993 non-null object\n",
      "jpg_url                          993 non-null object\n",
      "img_num                          993 non-null int64\n",
      "p1                               993 non-null object\n",
      "p1_conf                          993 non-null float64\n",
      "p1_dog                           993 non-null bool\n",
      "p2                               993 non-null object\n",
      "p2_conf                          993 non-null float64\n",
      "p2_dog                           993 non-null bool\n",
      "p3                               993 non-null object\n",
      "p3_conf                          993 non-null float64\n",
      "p3_dog                           993 non-null bool\n",
      "created_at                       993 non-null datetime64[ns]\n",
      "display_text_range               993 non-null object\n",
      "entities                         993 non-null object\n",
      "extended_entities                993 non-null object\n",
      "favorite_count                   993 non-null int64\n",
      "favorited                        993 non-null bool\n",
      "full_text                        993 non-null object\n",
      "id_str                           993 non-null object\n",
      "is_quote_status                  993 non-null bool\n",
      "lang                             993 non-null category\n",
      "possibly_sensitive               993 non-null float64\n",
      "possibly_sensitive_appealable    993 non-null float64\n",
      "retweet_count                    993 non-null int64\n",
      "retweeted                        993 non-null bool\n",
      "truncated                        993 non-null bool\n",
      "user                             993 non-null object\n",
      "dtypes: bool(7), category(1), datetime64[ns](2), float64(5), int64(5), object(17)\n",
      "memory usage: 240.6+ KB\n"
     ]
    }
   ],
   "source": [
    "tweet_cons_clean_df.info()"
   ]
  },
  {
   "cell_type": "markdown",
   "metadata": {},
   "source": [
    "2. Following columns are not needed for analysis.\n",
    "    * timestamp\n",
    "    * source_x\n",
    "    * text\n",
    "    * name                           \n",
    "    * jpg_url\n",
    "    * img_num\n",
    "    * created_at\n",
    "    * display_text_range\n",
    "    * entities\n",
    "    * extended_entities                   \n",
    "    * favorited\n",
    "    * full_text\n",
    "    * id_str\n",
    "    * is_quote_status\n",
    "    * lang\n",
    "    * possibly_sensitive\n",
    "    * possibly_sensitive_appealable    \n",
    "    * retweeted\n",
    "    * source_y\n",
    "    * truncated\n",
    "    * user\n",
    "\n",
    "#### Code"
   ]
  },
  {
   "cell_type": "code",
   "execution_count": 42,
   "metadata": {},
   "outputs": [],
   "source": [
    "tweet_cons_clean_df.drop(['timestamp','text','name','jpg_url','img_num','created_at','display_text_range','entities','extended_entities','favorited','full_text','id_str','is_quote_status','lang','possibly_sensitive','possibly_sensitive_appealable','retweeted','truncated','user'],axis=1,inplace=True)"
   ]
  },
  {
   "cell_type": "markdown",
   "metadata": {},
   "source": [
    "#### Test"
   ]
  },
  {
   "cell_type": "code",
   "execution_count": 43,
   "metadata": {},
   "outputs": [
    {
     "name": "stdout",
     "output_type": "stream",
     "text": [
      "<class 'pandas.core.frame.DataFrame'>\n",
      "Int64Index: 993 entries, 0 to 1212\n",
      "Data columns (total 18 columns):\n",
      "tweet_id              993 non-null object\n",
      "rating_numerator      993 non-null int64\n",
      "rating_denominator    993 non-null int64\n",
      "doggo                 993 non-null object\n",
      "floofer               993 non-null object\n",
      "pupper                993 non-null object\n",
      "puppo                 993 non-null object\n",
      "p1                    993 non-null object\n",
      "p1_conf               993 non-null float64\n",
      "p1_dog                993 non-null bool\n",
      "p2                    993 non-null object\n",
      "p2_conf               993 non-null float64\n",
      "p2_dog                993 non-null bool\n",
      "p3                    993 non-null object\n",
      "p3_conf               993 non-null float64\n",
      "p3_dog                993 non-null bool\n",
      "favorite_count        993 non-null int64\n",
      "retweet_count         993 non-null int64\n",
      "dtypes: bool(3), float64(3), int64(4), object(8)\n",
      "memory usage: 127.0+ KB\n"
     ]
    }
   ],
   "source": [
    "tweet_cons_clean_df.info()"
   ]
  },
  {
   "cell_type": "markdown",
   "metadata": {},
   "source": [
    "3. Not all records identified in image-prediction file not always dogs. We can remove non dog records.\n",
    "\n",
    "#### Code"
   ]
  },
  {
   "cell_type": "code",
   "execution_count": 44,
   "metadata": {},
   "outputs": [],
   "source": [
    "tweet_cons_clean_df = tweet_cons_clean_df[(tweet_cons_clean_df.p1_dog == True)|(tweet_cons_clean_df.p2_dog==True)|(tweet_cons_clean_df.p3_dog==True)]"
   ]
  },
  {
   "cell_type": "markdown",
   "metadata": {},
   "source": [
    "#### Test\n",
    "\n",
    "Below code snippet will yield 0 records as atlest one of the preditions should yield True for dog."
   ]
  },
  {
   "cell_type": "code",
   "execution_count": 45,
   "metadata": {},
   "outputs": [
    {
     "data": {
      "text/plain": [
       "0"
      ]
     },
     "execution_count": 45,
     "metadata": {},
     "output_type": "execute_result"
    }
   ],
   "source": [
    "len(tweet_cons_clean_df[(tweet_cons_clean_df.p1_dog == False)&(tweet_cons_clean_df.p2_dog==False)&(tweet_cons_clean_df.p3_dog==False)])"
   ]
  },
  {
   "cell_type": "markdown",
   "metadata": {},
   "source": [
    "4. Image prediction data has 3 possible predictions for each of the tweets along with whether the prediction has classified as dog or not and confidence of the predictions. We will \n",
    "    1. use only predictions that are of dogs.\n",
    "    2. select maximum prediction value.\n",
    "    3. use the dog breed from maximum prediction value.\n",
    "\n",
    "#### Code"
   ]
  },
  {
   "cell_type": "code",
   "execution_count": 46,
   "metadata": {},
   "outputs": [],
   "source": [
    "tweet_cons_clean_df.loc[tweet_cons_clean_df.p1_dog == False,'p1_conf'] = 0"
   ]
  },
  {
   "cell_type": "code",
   "execution_count": 47,
   "metadata": {},
   "outputs": [],
   "source": [
    "tweet_cons_clean_df.loc[tweet_cons_clean_df.p2_dog == False,'p2_conf'] = 0"
   ]
  },
  {
   "cell_type": "code",
   "execution_count": 48,
   "metadata": {},
   "outputs": [],
   "source": [
    "tweet_cons_clean_df.loc[tweet_cons_clean_df.p3_dog == False,'p3_conf'] = 0"
   ]
  },
  {
   "cell_type": "code",
   "execution_count": 49,
   "metadata": {},
   "outputs": [
    {
     "data": {
      "text/html": [
       "<div>\n",
       "<style>\n",
       "    .dataframe thead tr:only-child th {\n",
       "        text-align: right;\n",
       "    }\n",
       "\n",
       "    .dataframe thead th {\n",
       "        text-align: left;\n",
       "    }\n",
       "\n",
       "    .dataframe tbody tr th {\n",
       "        vertical-align: top;\n",
       "    }\n",
       "</style>\n",
       "<table border=\"1\" class=\"dataframe\">\n",
       "  <thead>\n",
       "    <tr style=\"text-align: right;\">\n",
       "      <th></th>\n",
       "      <th>tweet_id</th>\n",
       "      <th>rating_numerator</th>\n",
       "      <th>rating_denominator</th>\n",
       "      <th>doggo</th>\n",
       "      <th>floofer</th>\n",
       "      <th>pupper</th>\n",
       "      <th>puppo</th>\n",
       "      <th>p1</th>\n",
       "      <th>p1_conf</th>\n",
       "      <th>p1_dog</th>\n",
       "      <th>p2</th>\n",
       "      <th>p2_conf</th>\n",
       "      <th>p2_dog</th>\n",
       "      <th>p3</th>\n",
       "      <th>p3_conf</th>\n",
       "      <th>p3_dog</th>\n",
       "      <th>favorite_count</th>\n",
       "      <th>retweet_count</th>\n",
       "    </tr>\n",
       "  </thead>\n",
       "  <tbody>\n",
       "    <tr>\n",
       "      <th>1</th>\n",
       "      <td>892177421306343426</td>\n",
       "      <td>13</td>\n",
       "      <td>10</td>\n",
       "      <td>None</td>\n",
       "      <td>None</td>\n",
       "      <td>None</td>\n",
       "      <td>None</td>\n",
       "      <td>Chihuahua</td>\n",
       "      <td>0.323581</td>\n",
       "      <td>True</td>\n",
       "      <td>Pekinese</td>\n",
       "      <td>0.090647</td>\n",
       "      <td>True</td>\n",
       "      <td>papillon</td>\n",
       "      <td>0.068957</td>\n",
       "      <td>True</td>\n",
       "      <td>32867</td>\n",
       "      <td>6207</td>\n",
       "    </tr>\n",
       "    <tr>\n",
       "      <th>2</th>\n",
       "      <td>891815181378084864</td>\n",
       "      <td>12</td>\n",
       "      <td>10</td>\n",
       "      <td>None</td>\n",
       "      <td>None</td>\n",
       "      <td>None</td>\n",
       "      <td>None</td>\n",
       "      <td>Chihuahua</td>\n",
       "      <td>0.716012</td>\n",
       "      <td>True</td>\n",
       "      <td>malamute</td>\n",
       "      <td>0.078253</td>\n",
       "      <td>True</td>\n",
       "      <td>kelpie</td>\n",
       "      <td>0.031379</td>\n",
       "      <td>True</td>\n",
       "      <td>24758</td>\n",
       "      <td>4107</td>\n",
       "    </tr>\n",
       "    <tr>\n",
       "      <th>3</th>\n",
       "      <td>891689557279858688</td>\n",
       "      <td>13</td>\n",
       "      <td>10</td>\n",
       "      <td>None</td>\n",
       "      <td>None</td>\n",
       "      <td>None</td>\n",
       "      <td>None</td>\n",
       "      <td>paper_towel</td>\n",
       "      <td>0.000000</td>\n",
       "      <td>False</td>\n",
       "      <td>Labrador_retriever</td>\n",
       "      <td>0.168086</td>\n",
       "      <td>True</td>\n",
       "      <td>spatula</td>\n",
       "      <td>0.000000</td>\n",
       "      <td>False</td>\n",
       "      <td>41696</td>\n",
       "      <td>8546</td>\n",
       "    </tr>\n",
       "    <tr>\n",
       "      <th>4</th>\n",
       "      <td>891327558926688256</td>\n",
       "      <td>12</td>\n",
       "      <td>10</td>\n",
       "      <td>None</td>\n",
       "      <td>None</td>\n",
       "      <td>None</td>\n",
       "      <td>None</td>\n",
       "      <td>basset</td>\n",
       "      <td>0.555712</td>\n",
       "      <td>True</td>\n",
       "      <td>English_springer</td>\n",
       "      <td>0.225770</td>\n",
       "      <td>True</td>\n",
       "      <td>German_short-haired_pointer</td>\n",
       "      <td>0.175219</td>\n",
       "      <td>True</td>\n",
       "      <td>39869</td>\n",
       "      <td>9276</td>\n",
       "    </tr>\n",
       "    <tr>\n",
       "      <th>5</th>\n",
       "      <td>891087950875897856</td>\n",
       "      <td>13</td>\n",
       "      <td>10</td>\n",
       "      <td>None</td>\n",
       "      <td>None</td>\n",
       "      <td>None</td>\n",
       "      <td>None</td>\n",
       "      <td>Chesapeake_Bay_retriever</td>\n",
       "      <td>0.425595</td>\n",
       "      <td>True</td>\n",
       "      <td>Irish_terrier</td>\n",
       "      <td>0.116317</td>\n",
       "      <td>True</td>\n",
       "      <td>Indian_elephant</td>\n",
       "      <td>0.000000</td>\n",
       "      <td>False</td>\n",
       "      <td>20020</td>\n",
       "      <td>3077</td>\n",
       "    </tr>\n",
       "  </tbody>\n",
       "</table>\n",
       "</div>"
      ],
      "text/plain": [
       "             tweet_id  rating_numerator  rating_denominator doggo floofer  \\\n",
       "1  892177421306343426                13                  10  None    None   \n",
       "2  891815181378084864                12                  10  None    None   \n",
       "3  891689557279858688                13                  10  None    None   \n",
       "4  891327558926688256                12                  10  None    None   \n",
       "5  891087950875897856                13                  10  None    None   \n",
       "\n",
       "  pupper puppo                        p1   p1_conf  p1_dog  \\\n",
       "1   None  None                 Chihuahua  0.323581    True   \n",
       "2   None  None                 Chihuahua  0.716012    True   \n",
       "3   None  None               paper_towel  0.000000   False   \n",
       "4   None  None                    basset  0.555712    True   \n",
       "5   None  None  Chesapeake_Bay_retriever  0.425595    True   \n",
       "\n",
       "                   p2   p2_conf  p2_dog                           p3  \\\n",
       "1            Pekinese  0.090647    True                     papillon   \n",
       "2            malamute  0.078253    True                       kelpie   \n",
       "3  Labrador_retriever  0.168086    True                      spatula   \n",
       "4    English_springer  0.225770    True  German_short-haired_pointer   \n",
       "5       Irish_terrier  0.116317    True              Indian_elephant   \n",
       "\n",
       "    p3_conf  p3_dog  favorite_count  retweet_count  \n",
       "1  0.068957    True           32867           6207  \n",
       "2  0.031379    True           24758           4107  \n",
       "3  0.000000   False           41696           8546  \n",
       "4  0.175219    True           39869           9276  \n",
       "5  0.000000   False           20020           3077  "
      ]
     },
     "execution_count": 49,
     "metadata": {},
     "output_type": "execute_result"
    }
   ],
   "source": [
    "tweet_cons_clean_df.head()"
   ]
  },
  {
   "cell_type": "code",
   "execution_count": 50,
   "metadata": {},
   "outputs": [],
   "source": [
    "tweet_cons_clean_df['max_conf'] = tweet_cons_clean_df[['p1_conf','p2_conf','p3_conf']].max(axis=1)"
   ]
  },
  {
   "cell_type": "code",
   "execution_count": 51,
   "metadata": {},
   "outputs": [],
   "source": [
    "tweet_cons_clean_df['dog_1'] = tweet_cons_clean_df[(tweet_cons_clean_df.p1_conf==tweet_cons_clean_df.max_conf)].p1\n",
    "\n",
    "tweet_cons_clean_df['dog_2'] = tweet_cons_clean_df[(tweet_cons_clean_df.p2_conf==tweet_cons_clean_df.max_conf)].p2\n",
    "\n",
    "tweet_cons_clean_df['dog_3'] = tweet_cons_clean_df[(tweet_cons_clean_df.p3_conf==tweet_cons_clean_df.max_conf)].p3"
   ]
  },
  {
   "cell_type": "code",
   "execution_count": 52,
   "metadata": {},
   "outputs": [],
   "source": [
    "tweet_cons_clean_df['dog_1']=tweet_cons_clean_df['dog_1'].fillna('')\n",
    "\n",
    "tweet_cons_clean_df['dog_2']=tweet_cons_clean_df['dog_2'].fillna('')\n",
    "\n",
    "tweet_cons_clean_df['dog_3']=tweet_cons_clean_df['dog_3'].fillna('')"
   ]
  },
  {
   "cell_type": "code",
   "execution_count": 53,
   "metadata": {},
   "outputs": [],
   "source": [
    "tweet_cons_clean_df['p_dog_breed']= tweet_cons_clean_df['dog_1']+tweet_cons_clean_df['dog_2']+tweet_cons_clean_df['dog_3']"
   ]
  },
  {
   "cell_type": "markdown",
   "metadata": {},
   "source": [
    "#### Test"
   ]
  },
  {
   "cell_type": "code",
   "execution_count": 54,
   "metadata": {},
   "outputs": [
    {
     "data": {
      "text/html": [
       "<div>\n",
       "<style>\n",
       "    .dataframe thead tr:only-child th {\n",
       "        text-align: right;\n",
       "    }\n",
       "\n",
       "    .dataframe thead th {\n",
       "        text-align: left;\n",
       "    }\n",
       "\n",
       "    .dataframe tbody tr th {\n",
       "        vertical-align: top;\n",
       "    }\n",
       "</style>\n",
       "<table border=\"1\" class=\"dataframe\">\n",
       "  <thead>\n",
       "    <tr style=\"text-align: right;\">\n",
       "      <th></th>\n",
       "      <th>tweet_id</th>\n",
       "      <th>rating_numerator</th>\n",
       "      <th>rating_denominator</th>\n",
       "      <th>doggo</th>\n",
       "      <th>floofer</th>\n",
       "      <th>pupper</th>\n",
       "      <th>puppo</th>\n",
       "      <th>p1</th>\n",
       "      <th>p1_conf</th>\n",
       "      <th>p1_dog</th>\n",
       "      <th>...</th>\n",
       "      <th>p3</th>\n",
       "      <th>p3_conf</th>\n",
       "      <th>p3_dog</th>\n",
       "      <th>favorite_count</th>\n",
       "      <th>retweet_count</th>\n",
       "      <th>max_conf</th>\n",
       "      <th>dog_1</th>\n",
       "      <th>dog_2</th>\n",
       "      <th>dog_3</th>\n",
       "      <th>p_dog_breed</th>\n",
       "    </tr>\n",
       "  </thead>\n",
       "  <tbody>\n",
       "    <tr>\n",
       "      <th>1</th>\n",
       "      <td>892177421306343426</td>\n",
       "      <td>13</td>\n",
       "      <td>10</td>\n",
       "      <td>None</td>\n",
       "      <td>None</td>\n",
       "      <td>None</td>\n",
       "      <td>None</td>\n",
       "      <td>Chihuahua</td>\n",
       "      <td>0.323581</td>\n",
       "      <td>True</td>\n",
       "      <td>...</td>\n",
       "      <td>papillon</td>\n",
       "      <td>0.068957</td>\n",
       "      <td>True</td>\n",
       "      <td>32867</td>\n",
       "      <td>6207</td>\n",
       "      <td>0.323581</td>\n",
       "      <td>Chihuahua</td>\n",
       "      <td></td>\n",
       "      <td></td>\n",
       "      <td>Chihuahua</td>\n",
       "    </tr>\n",
       "    <tr>\n",
       "      <th>2</th>\n",
       "      <td>891815181378084864</td>\n",
       "      <td>12</td>\n",
       "      <td>10</td>\n",
       "      <td>None</td>\n",
       "      <td>None</td>\n",
       "      <td>None</td>\n",
       "      <td>None</td>\n",
       "      <td>Chihuahua</td>\n",
       "      <td>0.716012</td>\n",
       "      <td>True</td>\n",
       "      <td>...</td>\n",
       "      <td>kelpie</td>\n",
       "      <td>0.031379</td>\n",
       "      <td>True</td>\n",
       "      <td>24758</td>\n",
       "      <td>4107</td>\n",
       "      <td>0.716012</td>\n",
       "      <td>Chihuahua</td>\n",
       "      <td></td>\n",
       "      <td></td>\n",
       "      <td>Chihuahua</td>\n",
       "    </tr>\n",
       "    <tr>\n",
       "      <th>3</th>\n",
       "      <td>891689557279858688</td>\n",
       "      <td>13</td>\n",
       "      <td>10</td>\n",
       "      <td>None</td>\n",
       "      <td>None</td>\n",
       "      <td>None</td>\n",
       "      <td>None</td>\n",
       "      <td>paper_towel</td>\n",
       "      <td>0.000000</td>\n",
       "      <td>False</td>\n",
       "      <td>...</td>\n",
       "      <td>spatula</td>\n",
       "      <td>0.000000</td>\n",
       "      <td>False</td>\n",
       "      <td>41696</td>\n",
       "      <td>8546</td>\n",
       "      <td>0.168086</td>\n",
       "      <td></td>\n",
       "      <td>Labrador_retriever</td>\n",
       "      <td></td>\n",
       "      <td>Labrador_retriever</td>\n",
       "    </tr>\n",
       "    <tr>\n",
       "      <th>4</th>\n",
       "      <td>891327558926688256</td>\n",
       "      <td>12</td>\n",
       "      <td>10</td>\n",
       "      <td>None</td>\n",
       "      <td>None</td>\n",
       "      <td>None</td>\n",
       "      <td>None</td>\n",
       "      <td>basset</td>\n",
       "      <td>0.555712</td>\n",
       "      <td>True</td>\n",
       "      <td>...</td>\n",
       "      <td>German_short-haired_pointer</td>\n",
       "      <td>0.175219</td>\n",
       "      <td>True</td>\n",
       "      <td>39869</td>\n",
       "      <td>9276</td>\n",
       "      <td>0.555712</td>\n",
       "      <td>basset</td>\n",
       "      <td></td>\n",
       "      <td></td>\n",
       "      <td>basset</td>\n",
       "    </tr>\n",
       "    <tr>\n",
       "      <th>5</th>\n",
       "      <td>891087950875897856</td>\n",
       "      <td>13</td>\n",
       "      <td>10</td>\n",
       "      <td>None</td>\n",
       "      <td>None</td>\n",
       "      <td>None</td>\n",
       "      <td>None</td>\n",
       "      <td>Chesapeake_Bay_retriever</td>\n",
       "      <td>0.425595</td>\n",
       "      <td>True</td>\n",
       "      <td>...</td>\n",
       "      <td>Indian_elephant</td>\n",
       "      <td>0.000000</td>\n",
       "      <td>False</td>\n",
       "      <td>20020</td>\n",
       "      <td>3077</td>\n",
       "      <td>0.425595</td>\n",
       "      <td>Chesapeake_Bay_retriever</td>\n",
       "      <td></td>\n",
       "      <td></td>\n",
       "      <td>Chesapeake_Bay_retriever</td>\n",
       "    </tr>\n",
       "  </tbody>\n",
       "</table>\n",
       "<p>5 rows × 23 columns</p>\n",
       "</div>"
      ],
      "text/plain": [
       "             tweet_id  rating_numerator  rating_denominator doggo floofer  \\\n",
       "1  892177421306343426                13                  10  None    None   \n",
       "2  891815181378084864                12                  10  None    None   \n",
       "3  891689557279858688                13                  10  None    None   \n",
       "4  891327558926688256                12                  10  None    None   \n",
       "5  891087950875897856                13                  10  None    None   \n",
       "\n",
       "  pupper puppo                        p1   p1_conf  p1_dog  \\\n",
       "1   None  None                 Chihuahua  0.323581    True   \n",
       "2   None  None                 Chihuahua  0.716012    True   \n",
       "3   None  None               paper_towel  0.000000   False   \n",
       "4   None  None                    basset  0.555712    True   \n",
       "5   None  None  Chesapeake_Bay_retriever  0.425595    True   \n",
       "\n",
       "             ...                                      p3   p3_conf  p3_dog  \\\n",
       "1            ...                                papillon  0.068957    True   \n",
       "2            ...                                  kelpie  0.031379    True   \n",
       "3            ...                                 spatula  0.000000   False   \n",
       "4            ...             German_short-haired_pointer  0.175219    True   \n",
       "5            ...                         Indian_elephant  0.000000   False   \n",
       "\n",
       "  favorite_count  retweet_count  max_conf                     dog_1  \\\n",
       "1          32867           6207  0.323581                 Chihuahua   \n",
       "2          24758           4107  0.716012                 Chihuahua   \n",
       "3          41696           8546  0.168086                             \n",
       "4          39869           9276  0.555712                    basset   \n",
       "5          20020           3077  0.425595  Chesapeake_Bay_retriever   \n",
       "\n",
       "                dog_2  dog_3               p_dog_breed  \n",
       "1                                            Chihuahua  \n",
       "2                                            Chihuahua  \n",
       "3  Labrador_retriever               Labrador_retriever  \n",
       "4                                               basset  \n",
       "5                             Chesapeake_Bay_retriever  \n",
       "\n",
       "[5 rows x 23 columns]"
      ]
     },
     "execution_count": 54,
     "metadata": {},
     "output_type": "execute_result"
    }
   ],
   "source": [
    "tweet_cons_clean_df.head()"
   ]
  },
  {
   "cell_type": "code",
   "execution_count": 55,
   "metadata": {},
   "outputs": [
    {
     "name": "stdout",
     "output_type": "stream",
     "text": [
      "<class 'pandas.core.frame.DataFrame'>\n",
      "Int64Index: 888 entries, 1 to 1212\n",
      "Data columns (total 23 columns):\n",
      "tweet_id              888 non-null object\n",
      "rating_numerator      888 non-null int64\n",
      "rating_denominator    888 non-null int64\n",
      "doggo                 888 non-null object\n",
      "floofer               888 non-null object\n",
      "pupper                888 non-null object\n",
      "puppo                 888 non-null object\n",
      "p1                    888 non-null object\n",
      "p1_conf               888 non-null float64\n",
      "p1_dog                888 non-null bool\n",
      "p2                    888 non-null object\n",
      "p2_conf               888 non-null float64\n",
      "p2_dog                888 non-null bool\n",
      "p3                    888 non-null object\n",
      "p3_conf               888 non-null float64\n",
      "p3_dog                888 non-null bool\n",
      "favorite_count        888 non-null int64\n",
      "retweet_count         888 non-null int64\n",
      "max_conf              888 non-null float64\n",
      "dog_1                 888 non-null object\n",
      "dog_2                 888 non-null object\n",
      "dog_3                 888 non-null object\n",
      "p_dog_breed           888 non-null object\n",
      "dtypes: bool(3), float64(4), int64(4), object(12)\n",
      "memory usage: 148.3+ KB\n"
     ]
    }
   ],
   "source": [
    "tweet_cons_clean_df.info()"
   ]
  },
  {
   "cell_type": "markdown",
   "metadata": {},
   "source": [
    "Now that we extracted predicted dog breed, we will delete following columns 'p1','p1_conf','p1_dog','p2','p2_conf','p2_dog','p3','p3_conf','p3_dog','max_conf','dog_1','dog_2','dog_3'"
   ]
  },
  {
   "cell_type": "code",
   "execution_count": 56,
   "metadata": {},
   "outputs": [],
   "source": [
    "tweet_cons_clean_df.drop(['p1','p1_conf','p1_dog','p2','p2_conf','p2_dog','p3','p3_conf','p3_dog','max_conf','dog_1','dog_2','dog_3'],axis=1,inplace=True)"
   ]
  },
  {
   "cell_type": "code",
   "execution_count": 57,
   "metadata": {},
   "outputs": [
    {
     "name": "stdout",
     "output_type": "stream",
     "text": [
      "<class 'pandas.core.frame.DataFrame'>\n",
      "Int64Index: 888 entries, 1 to 1212\n",
      "Data columns (total 10 columns):\n",
      "tweet_id              888 non-null object\n",
      "rating_numerator      888 non-null int64\n",
      "rating_denominator    888 non-null int64\n",
      "doggo                 888 non-null object\n",
      "floofer               888 non-null object\n",
      "pupper                888 non-null object\n",
      "puppo                 888 non-null object\n",
      "favorite_count        888 non-null int64\n",
      "retweet_count         888 non-null int64\n",
      "p_dog_breed           888 non-null object\n",
      "dtypes: int64(4), object(6)\n",
      "memory usage: 76.3+ KB\n"
     ]
    }
   ],
   "source": [
    "tweet_cons_clean_df.info()"
   ]
  },
  {
   "cell_type": "markdown",
   "metadata": {},
   "source": [
    "5. Dog breeds contain special characters \"-\",\"_\". We will replace the special characters with \" \".\n",
    "\n",
    "#### Code"
   ]
  },
  {
   "cell_type": "code",
   "execution_count": 58,
   "metadata": {},
   "outputs": [
    {
     "data": {
      "text/plain": [
       "(484, 28)"
      ]
     },
     "execution_count": 58,
     "metadata": {},
     "output_type": "execute_result"
    }
   ],
   "source": [
    "len(tweet_cons_clean_df[tweet_cons_clean_df.p_dog_breed.str.contains(\"_\")]),len(tweet_cons_clean_df[tweet_cons_clean_df.p_dog_breed.str.contains(\"-\")])"
   ]
  },
  {
   "cell_type": "code",
   "execution_count": 59,
   "metadata": {},
   "outputs": [],
   "source": [
    "tweet_cons_clean_df['p_dog_breed']=tweet_cons_clean_df.p_dog_breed.str.replace('_',' ')\n",
    "tweet_cons_clean_df['p_dog_breed']=tweet_cons_clean_df.p_dog_breed.str.replace('-',' ')\n",
    "tweet_cons_clean_df['p_dog_breed']=tweet_cons_clean_df.p_dog_breed.str.title()"
   ]
  },
  {
   "cell_type": "markdown",
   "metadata": {},
   "source": [
    "#### Test"
   ]
  },
  {
   "cell_type": "code",
   "execution_count": 60,
   "metadata": {},
   "outputs": [
    {
     "data": {
      "text/plain": [
       "(0, 0)"
      ]
     },
     "execution_count": 60,
     "metadata": {},
     "output_type": "execute_result"
    }
   ],
   "source": [
    "len(tweet_cons_clean_df[tweet_cons_clean_df.p_dog_breed.str.contains(\"_\")]),len(tweet_cons_clean_df[tweet_cons_clean_df.p_dog_breed.str.contains(\"-\")])"
   ]
  },
  {
   "cell_type": "code",
   "execution_count": 61,
   "metadata": {},
   "outputs": [],
   "source": [
    "tweet_cons_clean_df.loc[tweet_cons_clean_df.doggo=='None','doggo'] =''\n",
    "tweet_cons_clean_df.loc[tweet_cons_clean_df.floofer=='None','floofer'] =''\n",
    "tweet_cons_clean_df.loc[tweet_cons_clean_df.pupper=='None','pupper'] =''\n",
    "tweet_cons_clean_df.loc[tweet_cons_clean_df.puppo=='None','puppo'] =''"
   ]
  },
  {
   "cell_type": "code",
   "execution_count": 62,
   "metadata": {},
   "outputs": [
    {
     "data": {
      "text/plain": [
       "(0, 0, 0, 0)"
      ]
     },
     "execution_count": 62,
     "metadata": {},
     "output_type": "execute_result"
    }
   ],
   "source": [
    "len(tweet_cons_clean_df[tweet_cons_clean_df.doggo=='None']),len(tweet_cons_clean_df[tweet_cons_clean_df.floofer=='None']),len(tweet_cons_clean_df[tweet_cons_clean_df.pupper=='None']),len(tweet_cons_clean_df[tweet_cons_clean_df.puppo=='None'])"
   ]
  },
  {
   "cell_type": "code",
   "execution_count": 63,
   "metadata": {},
   "outputs": [],
   "source": [
    "tweet_cons_clean_df['dog_type']= tweet_cons_clean_df['doggo']+tweet_cons_clean_df['floofer']+tweet_cons_clean_df['pupper']+tweet_cons_clean_df['puppo']"
   ]
  },
  {
   "cell_type": "code",
   "execution_count": 64,
   "metadata": {},
   "outputs": [
    {
     "name": "stdout",
     "output_type": "stream",
     "text": [
      "<class 'pandas.core.frame.DataFrame'>\n",
      "Int64Index: 888 entries, 1 to 1212\n",
      "Data columns (total 11 columns):\n",
      "tweet_id              888 non-null object\n",
      "rating_numerator      888 non-null int64\n",
      "rating_denominator    888 non-null int64\n",
      "doggo                 888 non-null object\n",
      "floofer               888 non-null object\n",
      "pupper                888 non-null object\n",
      "puppo                 888 non-null object\n",
      "favorite_count        888 non-null int64\n",
      "retweet_count         888 non-null int64\n",
      "p_dog_breed           888 non-null object\n",
      "dog_type              888 non-null object\n",
      "dtypes: int64(4), object(7)\n",
      "memory usage: 83.2+ KB\n"
     ]
    }
   ],
   "source": [
    "tweet_cons_clean_df.info()"
   ]
  },
  {
   "cell_type": "code",
   "execution_count": 65,
   "metadata": {},
   "outputs": [],
   "source": [
    "tweet_cons_clean_df.drop(['doggo','floofer','pupper','puppo'],axis=1,inplace=True)"
   ]
  },
  {
   "cell_type": "code",
   "execution_count": 66,
   "metadata": {},
   "outputs": [
    {
     "data": {
      "text/plain": [
       "                707\n",
       "pupper          120\n",
       "doggo            39\n",
       "puppo            13\n",
       "floofer           4\n",
       "doggopupper       3\n",
       "doggofloofer      1\n",
       "doggopuppo        1\n",
       "Name: dog_type, dtype: int64"
      ]
     },
     "execution_count": 66,
     "metadata": {},
     "output_type": "execute_result"
    }
   ],
   "source": [
    "tweet_cons_clean_df.dog_type.value_counts()"
   ]
  },
  {
   "cell_type": "code",
   "execution_count": 67,
   "metadata": {},
   "outputs": [],
   "source": [
    "tweet_cons_clean_df.loc[tweet_cons_clean_df.dog_type == 'doggopupper','dog_type'] = 'Doggo & Pupper'\n",
    "tweet_cons_clean_df.loc[tweet_cons_clean_df.dog_type == 'doggofloofer','dog_type'] = 'Doggo & Floofer'\n",
    "tweet_cons_clean_df.loc[tweet_cons_clean_df.dog_type == 'doggopuppo','dog_type'] = 'Doggo & Puppo'"
   ]
  },
  {
   "cell_type": "code",
   "execution_count": 68,
   "metadata": {},
   "outputs": [],
   "source": [
    "tweet_cons_clean_df['dog_type']=tweet_cons_clean_df.dog_type.str.title()"
   ]
  },
  {
   "cell_type": "code",
   "execution_count": 69,
   "metadata": {},
   "outputs": [],
   "source": [
    "tweet_cons_clean_df['p_dog_breed'] = tweet_cons_clean_df.p_dog_breed.astype(dtype=\"category\");\n",
    "tweet_cons_clean_df['dog_type'] = tweet_cons_clean_df.dog_type.astype(dtype=\"category\");"
   ]
  },
  {
   "cell_type": "code",
   "execution_count": 70,
   "metadata": {},
   "outputs": [
    {
     "data": {
      "text/html": [
       "<div>\n",
       "<style>\n",
       "    .dataframe thead tr:only-child th {\n",
       "        text-align: right;\n",
       "    }\n",
       "\n",
       "    .dataframe thead th {\n",
       "        text-align: left;\n",
       "    }\n",
       "\n",
       "    .dataframe tbody tr th {\n",
       "        vertical-align: top;\n",
       "    }\n",
       "</style>\n",
       "<table border=\"1\" class=\"dataframe\">\n",
       "  <thead>\n",
       "    <tr style=\"text-align: right;\">\n",
       "      <th></th>\n",
       "      <th>tweet_id</th>\n",
       "      <th>rating_numerator</th>\n",
       "      <th>rating_denominator</th>\n",
       "      <th>favorite_count</th>\n",
       "      <th>retweet_count</th>\n",
       "      <th>p_dog_breed</th>\n",
       "      <th>dog_type</th>\n",
       "    </tr>\n",
       "  </thead>\n",
       "  <tbody>\n",
       "    <tr>\n",
       "      <th>1</th>\n",
       "      <td>892177421306343426</td>\n",
       "      <td>13</td>\n",
       "      <td>10</td>\n",
       "      <td>32867</td>\n",
       "      <td>6207</td>\n",
       "      <td>Chihuahua</td>\n",
       "      <td></td>\n",
       "    </tr>\n",
       "    <tr>\n",
       "      <th>2</th>\n",
       "      <td>891815181378084864</td>\n",
       "      <td>12</td>\n",
       "      <td>10</td>\n",
       "      <td>24758</td>\n",
       "      <td>4107</td>\n",
       "      <td>Chihuahua</td>\n",
       "      <td></td>\n",
       "    </tr>\n",
       "    <tr>\n",
       "      <th>3</th>\n",
       "      <td>891689557279858688</td>\n",
       "      <td>13</td>\n",
       "      <td>10</td>\n",
       "      <td>41696</td>\n",
       "      <td>8546</td>\n",
       "      <td>Labrador Retriever</td>\n",
       "      <td></td>\n",
       "    </tr>\n",
       "    <tr>\n",
       "      <th>4</th>\n",
       "      <td>891327558926688256</td>\n",
       "      <td>12</td>\n",
       "      <td>10</td>\n",
       "      <td>39869</td>\n",
       "      <td>9276</td>\n",
       "      <td>Basset</td>\n",
       "      <td></td>\n",
       "    </tr>\n",
       "    <tr>\n",
       "      <th>5</th>\n",
       "      <td>891087950875897856</td>\n",
       "      <td>13</td>\n",
       "      <td>10</td>\n",
       "      <td>20020</td>\n",
       "      <td>3077</td>\n",
       "      <td>Chesapeake Bay Retriever</td>\n",
       "      <td></td>\n",
       "    </tr>\n",
       "  </tbody>\n",
       "</table>\n",
       "</div>"
      ],
      "text/plain": [
       "             tweet_id  rating_numerator  rating_denominator  favorite_count  \\\n",
       "1  892177421306343426                13                  10           32867   \n",
       "2  891815181378084864                12                  10           24758   \n",
       "3  891689557279858688                13                  10           41696   \n",
       "4  891327558926688256                12                  10           39869   \n",
       "5  891087950875897856                13                  10           20020   \n",
       "\n",
       "   retweet_count               p_dog_breed dog_type  \n",
       "1           6207                 Chihuahua           \n",
       "2           4107                 Chihuahua           \n",
       "3           8546        Labrador Retriever           \n",
       "4           9276                    Basset           \n",
       "5           3077  Chesapeake Bay Retriever           "
      ]
     },
     "execution_count": 70,
     "metadata": {},
     "output_type": "execute_result"
    }
   ],
   "source": [
    "tweet_cons_clean_df.head()"
   ]
  },
  {
   "cell_type": "markdown",
   "metadata": {},
   "source": [
    "### Visualize and Analyze clean data\n",
    "\n",
    "Below code snippet will write clean data into twitter_archive_master.csv file."
   ]
  },
  {
   "cell_type": "code",
   "execution_count": 71,
   "metadata": {},
   "outputs": [],
   "source": [
    "tweet_cons_clean_df.to_csv('twitter_archive_master.csv',index=False)"
   ]
  },
  {
   "cell_type": "code",
   "execution_count": 72,
   "metadata": {},
   "outputs": [
    {
     "data": {
      "image/png": "[encoded data removed]",
      "text/plain": [
       "<matplotlib.figure.Figure at 0x7f2a270c7a90>"
      ]
     },
     "metadata": {},
     "output_type": "display_data"
    }
   ],
   "source": [
    "sns.set(style=\"darkgrid\")\n",
    "\n",
    "ax=sns.countplot(tweet_cons_clean_df.rating_numerator);\n",
    "plt.title(\"Rating Frequency\")\n",
    "plt.xlabel('Rating')\n",
    "fig = ax.get_figure()\n",
    "fig.savefig('ratingFrq.png')"
   ]
  },
  {
   "cell_type": "code",
   "execution_count": 73,
   "metadata": {},
   "outputs": [
    {
     "data": {
      "image/png": "[encoded data removed]",
      "text/plain": [
       "<matplotlib.figure.Figure at 0x7f2a271ae2e8>"
      ]
     },
     "metadata": {},
     "output_type": "display_data"
    }
   ],
   "source": [
    "sns.set(rc={'figure.figsize':(11.7,8.27)})\n",
    "ax = sns.countplot(x=\"dog_type\", data=tweet_cons_clean_df[tweet_cons_clean_df.dog_type!='']);\n",
    "plt.title(\"Dog Type Frequency\")\n",
    "plt.xlabel('Dog Type')\n",
    "fig = ax.get_figure()\n",
    "fig.savefig('dogTypeFrq.png')"
   ]
  },
  {
   "cell_type": "code",
   "execution_count": 74,
   "metadata": {},
   "outputs": [
    {
     "data": {
      "image/png": "[encoded data removed]",
      "text/plain": [
       "<matplotlib.figure.Figure at 0x7f2a255a6048>"
      ]
     },
     "metadata": {},
     "output_type": "display_data"
    }
   ],
   "source": [
    "ax = sns.barplot(x='dog_type',y='favorite_count',ci=None, data=tweet_cons_clean_df[tweet_cons_clean_df.dog_type!='']);\n",
    "\n",
    "plt.title(\"Dog Type vs Favorite count\")\n",
    "plt.xlabel('Dog Type')\n",
    "plt.ylabel('Favorite Count')\n",
    "fig = ax.get_figure()\n",
    "fig.savefig('dogTypeFavorite.png')"
   ]
  },
  {
   "cell_type": "code",
   "execution_count": 75,
   "metadata": {},
   "outputs": [
    {
     "data": {
      "image/png": "[encoded data removed]",
      "text/plain": [
       "<matplotlib.figure.Figure at 0x7f2a2524c518>"
      ]
     },
     "metadata": {},
     "output_type": "display_data"
    }
   ],
   "source": [
    "ax = sns.barplot(x='dog_type',y='retweet_count',ci=None, data=tweet_cons_clean_df[tweet_cons_clean_df.dog_type!='']);\n",
    "\n",
    "plt.title(\"Dog Type vs Retweet count\")\n",
    "plt.xlabel('Dog Type')\n",
    "plt.ylabel('Retweet Count')\n",
    "fig = ax.get_figure()\n",
    "fig.savefig('dogTypeRetweet.png')"
   ]
  },
  {
   "cell_type": "code",
   "execution_count": 76,
   "metadata": {},
   "outputs": [
    {
     "data": {
      "image/png": "[encoded data removed]",
      "text/plain": [
       "<matplotlib.figure.Figure at 0x7f2a24eb16d8>"
      ]
     },
     "metadata": {},
     "output_type": "display_data"
    }
   ],
   "source": [
    "ax = sns.barplot(x='rating_numerator',y='favorite_count',ci=None, data=tweet_cons_clean_df);\n",
    "\n",
    "plt.title(\"Rating vs Favorite Count\")\n",
    "plt.xlabel('Rating')\n",
    "plt.ylabel('Favorite Count')\n",
    "plt.savefig('ratingFavorite.png')"
   ]
  },
  {
   "cell_type": "code",
   "execution_count": 77,
   "metadata": {},
   "outputs": [
    {
     "data": {
      "image/png": "[encoded data removed]",
      "text/plain": [
       "<matplotlib.figure.Figure at 0x7f2a24e0a240>"
      ]
     },
     "metadata": {},
     "output_type": "display_data"
    }
   ],
   "source": [
    "ax = sns.barplot(x='rating_numerator',y='retweet_count',ci=None, data=tweet_cons_clean_df);\n",
    "\n",
    "plt.title(\"Rating vs Retweet Count\")\n",
    "plt.xlabel('Rating')\n",
    "plt.ylabel('Retweet Count')\n",
    "plt.savefig('ratingRetweet.png')"
   ]
  },
  {
   "cell_type": "code",
   "execution_count": 78,
   "metadata": {},
   "outputs": [
    {
     "data": {
      "text/html": [
       "<div>\n",
       "<style>\n",
       "    .dataframe thead tr:only-child th {\n",
       "        text-align: right;\n",
       "    }\n",
       "\n",
       "    .dataframe thead th {\n",
       "        text-align: left;\n",
       "    }\n",
       "\n",
       "    .dataframe tbody tr th {\n",
       "        vertical-align: top;\n",
       "    }\n",
       "</style>\n",
       "<table border=\"1\" class=\"dataframe\">\n",
       "  <thead>\n",
       "    <tr style=\"text-align: right;\">\n",
       "      <th></th>\n",
       "      <th>favorite_count</th>\n",
       "      <th>retweet_count</th>\n",
       "    </tr>\n",
       "  </thead>\n",
       "  <tbody>\n",
       "    <tr>\n",
       "      <th>favorite_count</th>\n",
       "      <td>1.00000</td>\n",
       "      <td>0.86548</td>\n",
       "    </tr>\n",
       "    <tr>\n",
       "      <th>retweet_count</th>\n",
       "      <td>0.86548</td>\n",
       "      <td>1.00000</td>\n",
       "    </tr>\n",
       "  </tbody>\n",
       "</table>\n",
       "</div>"
      ],
      "text/plain": [
       "                favorite_count  retweet_count\n",
       "favorite_count         1.00000        0.86548\n",
       "retweet_count          0.86548        1.00000"
      ]
     },
     "execution_count": 78,
     "metadata": {},
     "output_type": "execute_result"
    }
   ],
   "source": [
    "tweet_cons_clean_df[['favorite_count','retweet_count']].corr()"
   ]
  },
  {
   "cell_type": "code",
   "execution_count": 79,
   "metadata": {},
   "outputs": [
    {
     "data": {
      "text/html": [
       "<div>\n",
       "<style>\n",
       "    .dataframe thead tr:only-child th {\n",
       "        text-align: right;\n",
       "    }\n",
       "\n",
       "    .dataframe thead th {\n",
       "        text-align: left;\n",
       "    }\n",
       "\n",
       "    .dataframe tbody tr th {\n",
       "        vertical-align: top;\n",
       "    }\n",
       "</style>\n",
       "<table border=\"1\" class=\"dataframe\">\n",
       "  <thead>\n",
       "    <tr style=\"text-align: right;\">\n",
       "      <th></th>\n",
       "      <th>favorite_count</th>\n",
       "      <th>retweet_count</th>\n",
       "    </tr>\n",
       "  </thead>\n",
       "  <tbody>\n",
       "    <tr>\n",
       "      <th>count</th>\n",
       "      <td>888.000000</td>\n",
       "      <td>888.000000</td>\n",
       "    </tr>\n",
       "    <tr>\n",
       "      <th>mean</th>\n",
       "      <td>11742.854730</td>\n",
       "      <td>3476.022523</td>\n",
       "    </tr>\n",
       "    <tr>\n",
       "      <th>std</th>\n",
       "      <td>15194.365676</td>\n",
       "      <td>5369.594354</td>\n",
       "    </tr>\n",
       "    <tr>\n",
       "      <th>min</th>\n",
       "      <td>0.000000</td>\n",
       "      <td>80.000000</td>\n",
       "    </tr>\n",
       "    <tr>\n",
       "      <th>25%</th>\n",
       "      <td>2677.750000</td>\n",
       "      <td>870.000000</td>\n",
       "    </tr>\n",
       "    <tr>\n",
       "      <th>50%</th>\n",
       "      <td>4793.000000</td>\n",
       "      <td>1728.500000</td>\n",
       "    </tr>\n",
       "    <tr>\n",
       "      <th>75%</th>\n",
       "      <td>16790.750000</td>\n",
       "      <td>3897.500000</td>\n",
       "    </tr>\n",
       "    <tr>\n",
       "      <th>max</th>\n",
       "      <td>141614.000000</td>\n",
       "      <td>62665.000000</td>\n",
       "    </tr>\n",
       "  </tbody>\n",
       "</table>\n",
       "</div>"
      ],
      "text/plain": [
       "       favorite_count  retweet_count\n",
       "count      888.000000     888.000000\n",
       "mean     11742.854730    3476.022523\n",
       "std      15194.365676    5369.594354\n",
       "min          0.000000      80.000000\n",
       "25%       2677.750000     870.000000\n",
       "50%       4793.000000    1728.500000\n",
       "75%      16790.750000    3897.500000\n",
       "max     141614.000000   62665.000000"
      ]
     },
     "execution_count": 79,
     "metadata": {},
     "output_type": "execute_result"
    }
   ],
   "source": [
    "tweet_cons_clean_df[['favorite_count','retweet_count']].describe()"
   ]
  },
  {
   "cell_type": "markdown",
   "metadata": {},
   "source": [
    "#### Insights\n",
    "\n",
    "From the above data visualization and summarization, we can deduce:\n",
    "1.\tThere is strong correlation between retweet_count and favorite_count.\n",
    "2.\tMaximum number of retweets and favorites are made for dogs rated as 13.\n",
    "3.\tA dog can be classified into more than 1 stage e.g. Doggo & Pupper, Doggo & Floofer, Doggo & Puppo\n"
   ]
  }
 ],
 "metadata": {
  "kernelspec": {
   "display_name": "Python 3",
   "language": "python",
   "name": "python3"
  },
  "language_info": {
   "codemirror_mode": {
    "name": "ipython",
    "version": 3
   },
   "file_extension": ".py",
   "mimetype": "text/x-python",
   "name": "python",
   "nbconvert_exporter": "python",
   "pygments_lexer": "ipython3",
   "version": "3.6.3"
  }
 },
 "nbformat": 4,
 "nbformat_minor": 2
}
